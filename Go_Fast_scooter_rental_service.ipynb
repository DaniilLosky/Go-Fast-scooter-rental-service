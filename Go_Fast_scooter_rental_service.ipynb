{
 "cells": [
  {
   "cell_type": "markdown",
   "id": "e60acc7a",
   "metadata": {},
   "source": [
    "# Исследование данных поездок компании GoFast\n",
    "Были переданы данные о некоторых пользователях из нескольких городов, а также об их поездках. Необходимо проанализировать данные и проверьте некоторые гипотезы, которые могут помочь GoFast вырасти.\n",
    "Чтобы совершать поездки по городу, пользователи сервиса GoFast пользуются мобильным приложением. Сервисом можно пользоваться:\n",
    "* **без подписки:** \\\n",
    "    абонентская плата отсутствует;\\\n",
    "    стоимость одной минуты поездки — 8 рублей;\\\n",
    "    стоимость старта (начала поездки) — 50 рублей;\n",
    "* **с подпиской Ultra:** \\\n",
    "    абонентская плата — 199 рублей в месяц;\\\n",
    "    стоимость одной минуты поездки — 6 рублей;\\\n",
    "    стоимость старта — бесплатно."
   ]
  },
  {
   "cell_type": "markdown",
   "id": "01b850fe",
   "metadata": {},
   "source": [
    "# План проекта\n",
    "1. **Загрузить 3 файла с данными (пользователи, поездки и подписки) и вывести первые строки и информацию о данных**\n",
    "2. **Провести предобработку данных:** \\\n",
    "   а. Приведите столбец date к типу даты pandas;\\\n",
    "   b. Создать новый столбец с номером месяца на основе столбца date;\\\n",
    "   c. Проверить наличие пропущенных значений и дубликатов в датафреймах.\n",
    "3. **Описать и визуализировать общую информацию о пользователях и поездках:** \\\n",
    "   a. Частота встречаемости городов;\\\n",
    "   b. Соотношение пользователей с подпиской и без подписки;\\\n",
    "   c. Возраст пользователей;\\\n",
    "   d. Расстояние, которое пользователь преодолел за одну поездку;\\\n",
    "   e. Продолжительность поездок.\n",
    "4. **Объединить данные о пользователях, поездках и подписках в один датафрейм (метод merge().** \\\n",
    "    **Создать 2 датафрейма:**\n",
    "    * c данными о пользователях без подписки;\n",
    "    * с данными о пользователях с подпиской.\n",
    "    \n",
    "   **Визуализировать информацию о расстоянии и времени поездок для пользователей обеих категорий.**\n",
    "5. **Подсчитать выручку:** \\\n",
    "    a. Создать датафрейм с агрегированными данными о поездках на основе датафрейма с объединёнными данными из шага 4: найти суммарное расстояние, количество поездок и суммарное время для каждого пользователя за каждый месяц; \\\n",
    "    b. В этот же датафрейм добавить столбец с помесячной выручкой, которую принёс каждый пользователь (обратиться к информации об условиях оплаты для подписчиков и тех, у кого нет подписки).\n",
    "6. **Проверка гипотез:** \\\n",
    "    a. Тратят ли пользователи с подпиской больше времени на поездки? Если да, то пользователи с подпиской могут быть «выгоднее» для компании. Использовать исходные данные о продолжительности каждой сессии — отдельно для подписчиков и тех, у кого нет подписки; \\\n",
    "    b. Можно ли сказать, что среднее расстояние, которое проезжают пользователи с подпиской за одну поездку, не превышает 3130 метров?; \\\n",
    "    c. Будет ли помесячная выручка от пользователей с подпиской по месяцам выше, чем выручка от пользователей без подписки. Сделать вывод; \\\n",
    "    d. Представьте такую ситуацию: техническая команда сервиса обновила сервера, с которыми взаимодействует мобильное приложение. Она надеется, что из-за этого количество обращений в техподдержку значимо снизилось. Некоторый файл содержит для каждого пользователя данные о количестве обращений до обновления и после него. **Какой тест вам понадобился бы для проверки этой гипотезы?**"
   ]
  },
  {
   "cell_type": "markdown",
   "id": "0dbc120c",
   "metadata": {},
   "source": [
    "# План проекта (дополнение)\n",
    "## Основные задачи\n",
    "1. Определить в каком (-их) городах пользуются больше/меньше услугами GoFast\n",
    "2. Выявить кол-во пользователей с платной подпиской и без подписки\n",
    "3. Рассмотреть возраст, преодолеваемую дистанцию и затраченное время пользователями на поездки\n",
    "4. Сделать вывод о том, какая группа людей (подписка ultra/подписка free) приносит больше выручки бизнесу. Если первая группа приносит больше, то бизнесу необходимо привлекать людей к оформлению подписок разными способами.\n",
    "5. Также выяснить какая группа затрачивает больше времени на поездки, что поможет утвердить выгоду пользователей с подпиской для выручки компании\n",
    "6. Так как оптимальное с точки зрения износа самоката рассояние - 3130 метров, то главная задача выяснить не превышает ли среднее расстояние поездок порогового значения\n",
    "\n",
    "\n",
    "## Краткий план работы\n",
    "1. Рассмотреть данные\n",
    "2. Обработать данные: убрать пропуски, дубликаты и аномальные значения\n",
    "3. Визуализировать, сравнить и сделать выводы по информацию о пользователях и поездках\n",
    "4. Проанализировать данные 2-х отдельных групп: с подпиской и без неё\n",
    "5. Подсчитать помесячную выручку двух отдельных групп\n",
    "6. Проверить необходимые гипотезы о пользователях и поездках"
   ]
  },
  {
   "cell_type": "markdown",
   "id": "c42cbe00",
   "metadata": {},
   "source": [
    "## 1. Загрузка данных"
   ]
  },
  {
   "cell_type": "code",
   "execution_count": 1,
   "id": "eff9f206",
   "metadata": {},
   "outputs": [],
   "source": [
    "import pandas as pd\n",
    "import seaborn as sns\n",
    "import matplotlib.pyplot as plt\n",
    "import numpy as np\n",
    "\n",
    "try:\n",
    "    df_users = pd.read_csv('/Users/losky/practicum/practicum/users_go.csv',sep=',')\n",
    "except:\n",
    "    df_users = pd.read_csv('/datasets/users_go.csv',sep=',')\n",
    "try:\n",
    "    df_rides = pd.read_csv('/Users/losky/practicum/practicum/rides_go.csv',sep=',', decimal = '.')\n",
    "except:\n",
    "    df_rides = pd.read_csv('/datasets/rides_go.csv',sep=',', decimal = '.')\n",
    "try:\n",
    "    df_sub = pd.read_csv('/Users/losky/practicum/practicum/subscriptions_go.csv',sep=',')\n",
    "except:\n",
    "    df_sub = pd.read_csv('/datasets/subscriptions_go.csv',sep=',')"
   ]
  },
  {
   "cell_type": "code",
   "execution_count": 2,
   "id": "7b63d205",
   "metadata": {},
   "outputs": [
    {
     "data": {
      "text/html": [
       "<div>\n",
       "<style scoped>\n",
       "    .dataframe tbody tr th:only-of-type {\n",
       "        vertical-align: middle;\n",
       "    }\n",
       "\n",
       "    .dataframe tbody tr th {\n",
       "        vertical-align: top;\n",
       "    }\n",
       "\n",
       "    .dataframe thead th {\n",
       "        text-align: right;\n",
       "    }\n",
       "</style>\n",
       "<table border=\"1\" class=\"dataframe\">\n",
       "  <thead>\n",
       "    <tr style=\"text-align: right;\">\n",
       "      <th></th>\n",
       "      <th>user_id</th>\n",
       "      <th>name</th>\n",
       "      <th>age</th>\n",
       "      <th>city</th>\n",
       "      <th>subscription_type</th>\n",
       "    </tr>\n",
       "  </thead>\n",
       "  <tbody>\n",
       "    <tr>\n",
       "      <th>0</th>\n",
       "      <td>1</td>\n",
       "      <td>Кира</td>\n",
       "      <td>22</td>\n",
       "      <td>Тюмень</td>\n",
       "      <td>ultra</td>\n",
       "    </tr>\n",
       "    <tr>\n",
       "      <th>1</th>\n",
       "      <td>2</td>\n",
       "      <td>Станислав</td>\n",
       "      <td>31</td>\n",
       "      <td>Омск</td>\n",
       "      <td>ultra</td>\n",
       "    </tr>\n",
       "    <tr>\n",
       "      <th>2</th>\n",
       "      <td>3</td>\n",
       "      <td>Алексей</td>\n",
       "      <td>20</td>\n",
       "      <td>Москва</td>\n",
       "      <td>ultra</td>\n",
       "    </tr>\n",
       "    <tr>\n",
       "      <th>3</th>\n",
       "      <td>4</td>\n",
       "      <td>Константин</td>\n",
       "      <td>26</td>\n",
       "      <td>Ростов-на-Дону</td>\n",
       "      <td>ultra</td>\n",
       "    </tr>\n",
       "    <tr>\n",
       "      <th>4</th>\n",
       "      <td>5</td>\n",
       "      <td>Адель</td>\n",
       "      <td>28</td>\n",
       "      <td>Омск</td>\n",
       "      <td>ultra</td>\n",
       "    </tr>\n",
       "    <tr>\n",
       "      <th>5</th>\n",
       "      <td>6</td>\n",
       "      <td>Регина</td>\n",
       "      <td>25</td>\n",
       "      <td>Краснодар</td>\n",
       "      <td>ultra</td>\n",
       "    </tr>\n",
       "    <tr>\n",
       "      <th>6</th>\n",
       "      <td>7</td>\n",
       "      <td>Игорь</td>\n",
       "      <td>23</td>\n",
       "      <td>Омск</td>\n",
       "      <td>ultra</td>\n",
       "    </tr>\n",
       "    <tr>\n",
       "      <th>7</th>\n",
       "      <td>8</td>\n",
       "      <td>Юрий</td>\n",
       "      <td>23</td>\n",
       "      <td>Краснодар</td>\n",
       "      <td>ultra</td>\n",
       "    </tr>\n",
       "    <tr>\n",
       "      <th>8</th>\n",
       "      <td>9</td>\n",
       "      <td>Ян</td>\n",
       "      <td>21</td>\n",
       "      <td>Пятигорск</td>\n",
       "      <td>ultra</td>\n",
       "    </tr>\n",
       "    <tr>\n",
       "      <th>9</th>\n",
       "      <td>10</td>\n",
       "      <td>Валерий</td>\n",
       "      <td>18</td>\n",
       "      <td>Екатеринбург</td>\n",
       "      <td>ultra</td>\n",
       "    </tr>\n",
       "  </tbody>\n",
       "</table>\n",
       "</div>"
      ],
      "text/plain": [
       "   user_id        name  age            city subscription_type\n",
       "0        1        Кира   22          Тюмень             ultra\n",
       "1        2   Станислав   31            Омск             ultra\n",
       "2        3     Алексей   20          Москва             ultra\n",
       "3        4  Константин   26  Ростов-на-Дону             ultra\n",
       "4        5       Адель   28            Омск             ultra\n",
       "5        6      Регина   25       Краснодар             ultra\n",
       "6        7       Игорь   23            Омск             ultra\n",
       "7        8        Юрий   23       Краснодар             ultra\n",
       "8        9          Ян   21       Пятигорск             ultra\n",
       "9       10     Валерий   18    Екатеринбург             ultra"
      ]
     },
     "metadata": {},
     "output_type": "display_data"
    },
    {
     "data": {
      "text/html": [
       "<div>\n",
       "<style scoped>\n",
       "    .dataframe tbody tr th:only-of-type {\n",
       "        vertical-align: middle;\n",
       "    }\n",
       "\n",
       "    .dataframe tbody tr th {\n",
       "        vertical-align: top;\n",
       "    }\n",
       "\n",
       "    .dataframe thead th {\n",
       "        text-align: right;\n",
       "    }\n",
       "</style>\n",
       "<table border=\"1\" class=\"dataframe\">\n",
       "  <thead>\n",
       "    <tr style=\"text-align: right;\">\n",
       "      <th></th>\n",
       "      <th>user_id</th>\n",
       "      <th>distance</th>\n",
       "      <th>duration</th>\n",
       "      <th>date</th>\n",
       "    </tr>\n",
       "  </thead>\n",
       "  <tbody>\n",
       "    <tr>\n",
       "      <th>0</th>\n",
       "      <td>1</td>\n",
       "      <td>4409.919140</td>\n",
       "      <td>25.599769</td>\n",
       "      <td>2021-01-01</td>\n",
       "    </tr>\n",
       "    <tr>\n",
       "      <th>1</th>\n",
       "      <td>1</td>\n",
       "      <td>2617.592153</td>\n",
       "      <td>15.816871</td>\n",
       "      <td>2021-01-18</td>\n",
       "    </tr>\n",
       "    <tr>\n",
       "      <th>2</th>\n",
       "      <td>1</td>\n",
       "      <td>754.159807</td>\n",
       "      <td>6.232113</td>\n",
       "      <td>2021-04-20</td>\n",
       "    </tr>\n",
       "    <tr>\n",
       "      <th>3</th>\n",
       "      <td>1</td>\n",
       "      <td>2694.783254</td>\n",
       "      <td>18.511000</td>\n",
       "      <td>2021-08-11</td>\n",
       "    </tr>\n",
       "    <tr>\n",
       "      <th>4</th>\n",
       "      <td>1</td>\n",
       "      <td>4028.687306</td>\n",
       "      <td>26.265803</td>\n",
       "      <td>2021-08-28</td>\n",
       "    </tr>\n",
       "    <tr>\n",
       "      <th>5</th>\n",
       "      <td>1</td>\n",
       "      <td>2770.890808</td>\n",
       "      <td>16.650138</td>\n",
       "      <td>2021-10-09</td>\n",
       "    </tr>\n",
       "    <tr>\n",
       "      <th>6</th>\n",
       "      <td>1</td>\n",
       "      <td>3039.020292</td>\n",
       "      <td>14.927879</td>\n",
       "      <td>2021-10-19</td>\n",
       "    </tr>\n",
       "    <tr>\n",
       "      <th>7</th>\n",
       "      <td>1</td>\n",
       "      <td>2842.118050</td>\n",
       "      <td>23.117468</td>\n",
       "      <td>2021-11-06</td>\n",
       "    </tr>\n",
       "    <tr>\n",
       "      <th>8</th>\n",
       "      <td>1</td>\n",
       "      <td>3412.690668</td>\n",
       "      <td>15.238072</td>\n",
       "      <td>2021-11-14</td>\n",
       "    </tr>\n",
       "    <tr>\n",
       "      <th>9</th>\n",
       "      <td>1</td>\n",
       "      <td>748.690645</td>\n",
       "      <td>15.041884</td>\n",
       "      <td>2021-11-22</td>\n",
       "    </tr>\n",
       "  </tbody>\n",
       "</table>\n",
       "</div>"
      ],
      "text/plain": [
       "   user_id     distance   duration        date\n",
       "0        1  4409.919140  25.599769  2021-01-01\n",
       "1        1  2617.592153  15.816871  2021-01-18\n",
       "2        1   754.159807   6.232113  2021-04-20\n",
       "3        1  2694.783254  18.511000  2021-08-11\n",
       "4        1  4028.687306  26.265803  2021-08-28\n",
       "5        1  2770.890808  16.650138  2021-10-09\n",
       "6        1  3039.020292  14.927879  2021-10-19\n",
       "7        1  2842.118050  23.117468  2021-11-06\n",
       "8        1  3412.690668  15.238072  2021-11-14\n",
       "9        1   748.690645  15.041884  2021-11-22"
      ]
     },
     "metadata": {},
     "output_type": "display_data"
    },
    {
     "data": {
      "text/html": [
       "<div>\n",
       "<style scoped>\n",
       "    .dataframe tbody tr th:only-of-type {\n",
       "        vertical-align: middle;\n",
       "    }\n",
       "\n",
       "    .dataframe tbody tr th {\n",
       "        vertical-align: top;\n",
       "    }\n",
       "\n",
       "    .dataframe thead th {\n",
       "        text-align: right;\n",
       "    }\n",
       "</style>\n",
       "<table border=\"1\" class=\"dataframe\">\n",
       "  <thead>\n",
       "    <tr style=\"text-align: right;\">\n",
       "      <th></th>\n",
       "      <th>subscription_type</th>\n",
       "      <th>minute_price</th>\n",
       "      <th>start_ride_price</th>\n",
       "      <th>subscription_fee</th>\n",
       "    </tr>\n",
       "  </thead>\n",
       "  <tbody>\n",
       "    <tr>\n",
       "      <th>0</th>\n",
       "      <td>free</td>\n",
       "      <td>8</td>\n",
       "      <td>50</td>\n",
       "      <td>0</td>\n",
       "    </tr>\n",
       "    <tr>\n",
       "      <th>1</th>\n",
       "      <td>ultra</td>\n",
       "      <td>6</td>\n",
       "      <td>0</td>\n",
       "      <td>199</td>\n",
       "    </tr>\n",
       "  </tbody>\n",
       "</table>\n",
       "</div>"
      ],
      "text/plain": [
       "  subscription_type  minute_price  start_ride_price  subscription_fee\n",
       "0              free             8                50                 0\n",
       "1             ultra             6                 0               199"
      ]
     },
     "metadata": {},
     "output_type": "display_data"
    }
   ],
   "source": [
    "display(df_users.head(10))\n",
    "display(df_rides.head(10))\n",
    "display(df_sub.head())"
   ]
  },
  {
   "cell_type": "code",
   "execution_count": 3,
   "id": "8c735b8e",
   "metadata": {},
   "outputs": [
    {
     "name": "stdout",
     "output_type": "stream",
     "text": [
      "<class 'pandas.core.frame.DataFrame'>\n",
      "RangeIndex: 1565 entries, 0 to 1564\n",
      "Data columns (total 5 columns):\n",
      " #   Column             Non-Null Count  Dtype \n",
      "---  ------             --------------  ----- \n",
      " 0   user_id            1565 non-null   int64 \n",
      " 1   name               1565 non-null   object\n",
      " 2   age                1565 non-null   int64 \n",
      " 3   city               1565 non-null   object\n",
      " 4   subscription_type  1565 non-null   object\n",
      "dtypes: int64(2), object(3)\n",
      "memory usage: 61.3+ KB\n",
      "None\n",
      "<class 'pandas.core.frame.DataFrame'>\n",
      "RangeIndex: 18068 entries, 0 to 18067\n",
      "Data columns (total 4 columns):\n",
      " #   Column    Non-Null Count  Dtype  \n",
      "---  ------    --------------  -----  \n",
      " 0   user_id   18068 non-null  int64  \n",
      " 1   distance  18068 non-null  float64\n",
      " 2   duration  18068 non-null  float64\n",
      " 3   date      18068 non-null  object \n",
      "dtypes: float64(2), int64(1), object(1)\n",
      "memory usage: 564.8+ KB\n",
      "None\n",
      "<class 'pandas.core.frame.DataFrame'>\n",
      "RangeIndex: 2 entries, 0 to 1\n",
      "Data columns (total 4 columns):\n",
      " #   Column             Non-Null Count  Dtype \n",
      "---  ------             --------------  ----- \n",
      " 0   subscription_type  2 non-null      object\n",
      " 1   minute_price       2 non-null      int64 \n",
      " 2   start_ride_price   2 non-null      int64 \n",
      " 3   subscription_fee   2 non-null      int64 \n",
      "dtypes: int64(3), object(1)\n",
      "memory usage: 192.0+ bytes\n",
      "None\n"
     ]
    }
   ],
   "source": [
    "print(df_users.info()) #выведем информацию\n",
    "print(df_rides.info()) #о каждом датафрейме\n",
    "print(df_sub.info()) #для предобработки данных"
   ]
  },
  {
   "cell_type": "code",
   "execution_count": 4,
   "id": "95cf2aae",
   "metadata": {},
   "outputs": [
    {
     "name": "stdout",
     "output_type": "stream",
     "text": [
      "1565\n",
      "18068\n",
      "2\n"
     ]
    }
   ],
   "source": [
    "print(df_users.shape[0])\n",
    "print(df_rides.shape[0])\n",
    "print(df_sub.shape[0])"
   ]
  },
  {
   "cell_type": "markdown",
   "id": "2b6478e7",
   "metadata": {},
   "source": [
    "**Промежуточный вывод:**\n",
    "1) В датафрейме df_rides столбец date необходимо привести к типу datetime\n",
    "2) Пропусков в данных не было обнаружено\n",
    "3) Уже в предобработке данных необходимо проверить неявные дубликаты и пропуски"
   ]
  },
  {
   "cell_type": "markdown",
   "id": "e95ebca7",
   "metadata": {},
   "source": [
    "## 2. Предобработка данных"
   ]
  },
  {
   "cell_type": "markdown",
   "id": "7a2d8b84",
   "metadata": {},
   "source": [
    "Приведем столбец date к типу данных datetime и сразу по просьбе создадим новый столбец с номером месяца на основе столбца date:"
   ]
  },
  {
   "cell_type": "code",
   "execution_count": 5,
   "id": "6f63cddf",
   "metadata": {},
   "outputs": [],
   "source": [
    "import datetime as dt\n",
    "\n",
    "df_rides['date'] = pd.to_datetime(df_rides['date'], format='%Y-%m-%dT%H:%M:%S')\n",
    "df_rides['month'] = df_rides['date'].dt.month"
   ]
  },
  {
   "cell_type": "markdown",
   "id": "06e348f1",
   "metadata": {},
   "source": [
    "Проверим полученный результат:"
   ]
  },
  {
   "cell_type": "code",
   "execution_count": 6,
   "id": "742704e1",
   "metadata": {},
   "outputs": [
    {
     "name": "stdout",
     "output_type": "stream",
     "text": [
      "<class 'pandas.core.frame.DataFrame'>\n",
      "RangeIndex: 18068 entries, 0 to 18067\n",
      "Data columns (total 5 columns):\n",
      " #   Column    Non-Null Count  Dtype         \n",
      "---  ------    --------------  -----         \n",
      " 0   user_id   18068 non-null  int64         \n",
      " 1   distance  18068 non-null  float64       \n",
      " 2   duration  18068 non-null  float64       \n",
      " 3   date      18068 non-null  datetime64[ns]\n",
      " 4   month     18068 non-null  int64         \n",
      "dtypes: datetime64[ns](1), float64(2), int64(2)\n",
      "memory usage: 705.9 KB\n"
     ]
    },
    {
     "data": {
      "text/html": [
       "<div>\n",
       "<style scoped>\n",
       "    .dataframe tbody tr th:only-of-type {\n",
       "        vertical-align: middle;\n",
       "    }\n",
       "\n",
       "    .dataframe tbody tr th {\n",
       "        vertical-align: top;\n",
       "    }\n",
       "\n",
       "    .dataframe thead th {\n",
       "        text-align: right;\n",
       "    }\n",
       "</style>\n",
       "<table border=\"1\" class=\"dataframe\">\n",
       "  <thead>\n",
       "    <tr style=\"text-align: right;\">\n",
       "      <th></th>\n",
       "      <th>user_id</th>\n",
       "      <th>distance</th>\n",
       "      <th>duration</th>\n",
       "      <th>date</th>\n",
       "      <th>month</th>\n",
       "    </tr>\n",
       "  </thead>\n",
       "  <tbody>\n",
       "    <tr>\n",
       "      <th>0</th>\n",
       "      <td>1</td>\n",
       "      <td>4409.919140</td>\n",
       "      <td>25.599769</td>\n",
       "      <td>2021-01-01</td>\n",
       "      <td>1</td>\n",
       "    </tr>\n",
       "    <tr>\n",
       "      <th>1</th>\n",
       "      <td>1</td>\n",
       "      <td>2617.592153</td>\n",
       "      <td>15.816871</td>\n",
       "      <td>2021-01-18</td>\n",
       "      <td>1</td>\n",
       "    </tr>\n",
       "    <tr>\n",
       "      <th>2</th>\n",
       "      <td>1</td>\n",
       "      <td>754.159807</td>\n",
       "      <td>6.232113</td>\n",
       "      <td>2021-04-20</td>\n",
       "      <td>4</td>\n",
       "    </tr>\n",
       "    <tr>\n",
       "      <th>3</th>\n",
       "      <td>1</td>\n",
       "      <td>2694.783254</td>\n",
       "      <td>18.511000</td>\n",
       "      <td>2021-08-11</td>\n",
       "      <td>8</td>\n",
       "    </tr>\n",
       "    <tr>\n",
       "      <th>4</th>\n",
       "      <td>1</td>\n",
       "      <td>4028.687306</td>\n",
       "      <td>26.265803</td>\n",
       "      <td>2021-08-28</td>\n",
       "      <td>8</td>\n",
       "    </tr>\n",
       "  </tbody>\n",
       "</table>\n",
       "</div>"
      ],
      "text/plain": [
       "   user_id     distance   duration       date  month\n",
       "0        1  4409.919140  25.599769 2021-01-01      1\n",
       "1        1  2617.592153  15.816871 2021-01-18      1\n",
       "2        1   754.159807   6.232113 2021-04-20      4\n",
       "3        1  2694.783254  18.511000 2021-08-11      8\n",
       "4        1  4028.687306  26.265803 2021-08-28      8"
      ]
     },
     "execution_count": 6,
     "metadata": {},
     "output_type": "execute_result"
    }
   ],
   "source": [
    "df_rides.info()\n",
    "df_rides.head()"
   ]
  },
  {
   "cell_type": "markdown",
   "id": "dd56783f",
   "metadata": {},
   "source": [
    "**Удалось создать новый столбец  сномером месяца и изменить тип данных столбца date**"
   ]
  },
  {
   "cell_type": "markdown",
   "id": "801982db",
   "metadata": {},
   "source": [
    "Проверим данные на наличие неявных дубликатов и пропусков:"
   ]
  },
  {
   "cell_type": "code",
   "execution_count": 7,
   "id": "4ebb778b",
   "metadata": {},
   "outputs": [
    {
     "name": "stdout",
     "output_type": "stream",
     "text": [
      "31\n",
      "0\n",
      "0\n"
     ]
    }
   ],
   "source": [
    "print(df_users.duplicated().sum())\n",
    "print(df_rides.duplicated().sum())\n",
    "print(df_sub.duplicated().sum())"
   ]
  },
  {
   "cell_type": "markdown",
   "id": "eec56ed7",
   "metadata": {},
   "source": [
    "**Через функцию поиска дубликатов удалось выяснить, что в датафрейме df_users присутствуют дубликаты. Рассмотрев отдельно столбец user_id удалось выяснить, что дублируются идентификаторы. Удалим дубликаты при помощи функции drop_duplicates()**"
   ]
  },
  {
   "cell_type": "code",
   "execution_count": 8,
   "id": "f60f25fa",
   "metadata": {},
   "outputs": [
    {
     "data": {
      "text/plain": [
       "0"
      ]
     },
     "execution_count": 8,
     "metadata": {},
     "output_type": "execute_result"
    }
   ],
   "source": [
    "df_users = df_users.drop_duplicates()\n",
    "df_users.duplicated().sum()"
   ]
  },
  {
   "cell_type": "markdown",
   "id": "f320f133",
   "metadata": {},
   "source": [
    "Рассмотрим 2-й датафрейм на наличие дубликатов или ошибок. Вызовем функцию value_counts() к столбцам **duration** и **distance**."
   ]
  },
  {
   "cell_type": "code",
   "execution_count": 9,
   "id": "37f4a49e",
   "metadata": {},
   "outputs": [
    {
     "name": "stdout",
     "output_type": "stream",
     "text": [
      "741.545359     1\n",
      "4158.226381    1\n",
      "3672.118870    1\n",
      "4533.004089    1\n",
      "2437.274120    1\n",
      "              ..\n",
      "2949.530545    1\n",
      "3289.893471    1\n",
      "3047.554085    1\n",
      "2931.718067    1\n",
      "4031.935032    1\n",
      "Name: distance, Length: 18068, dtype: int64\n",
      "0.500000     95\n",
      "22.184080     1\n",
      "25.866000     1\n",
      "22.837062     1\n",
      "19.173800     1\n",
      "             ..\n",
      "18.843765     1\n",
      "17.644888     1\n",
      "22.477965     1\n",
      "19.745218     1\n",
      "16.537044     1\n",
      "Name: duration, Length: 17974, dtype: int64\n"
     ]
    }
   ],
   "source": [
    "print(df_rides['distance'].value_counts())\n",
    "print(df_rides['duration'].value_counts())"
   ]
  },
  {
   "cell_type": "markdown",
   "id": "23ace631",
   "metadata": {},
   "source": [
    "В столбце **duration** можно заметить длительность поездки 0.5. Рассмотрим подробнее строки с данным значением, так как 95 строк слишком много для случайности. Возможно проблема кроется в системной ошибке."
   ]
  },
  {
   "cell_type": "code",
   "execution_count": 10,
   "id": "a210c35e",
   "metadata": {},
   "outputs": [
    {
     "data": {
      "text/html": [
       "<div>\n",
       "<style scoped>\n",
       "    .dataframe tbody tr th:only-of-type {\n",
       "        vertical-align: middle;\n",
       "    }\n",
       "\n",
       "    .dataframe tbody tr th {\n",
       "        vertical-align: top;\n",
       "    }\n",
       "\n",
       "    .dataframe thead th {\n",
       "        text-align: right;\n",
       "    }\n",
       "</style>\n",
       "<table border=\"1\" class=\"dataframe\">\n",
       "  <thead>\n",
       "    <tr style=\"text-align: right;\">\n",
       "      <th></th>\n",
       "      <th>user_id</th>\n",
       "      <th>distance</th>\n",
       "      <th>duration</th>\n",
       "      <th>date</th>\n",
       "      <th>month</th>\n",
       "    </tr>\n",
       "  </thead>\n",
       "  <tbody>\n",
       "    <tr>\n",
       "      <th>6531</th>\n",
       "      <td>701</td>\n",
       "      <td>4196.445201</td>\n",
       "      <td>0.5</td>\n",
       "      <td>2021-08-31</td>\n",
       "      <td>8</td>\n",
       "    </tr>\n",
       "    <tr>\n",
       "      <th>6570</th>\n",
       "      <td>704</td>\n",
       "      <td>4830.824371</td>\n",
       "      <td>0.5</td>\n",
       "      <td>2021-10-14</td>\n",
       "      <td>10</td>\n",
       "    </tr>\n",
       "    <tr>\n",
       "      <th>6680</th>\n",
       "      <td>712</td>\n",
       "      <td>4684.004397</td>\n",
       "      <td>0.5</td>\n",
       "      <td>2021-03-04</td>\n",
       "      <td>3</td>\n",
       "    </tr>\n",
       "    <tr>\n",
       "      <th>6695</th>\n",
       "      <td>713</td>\n",
       "      <td>5215.642710</td>\n",
       "      <td>0.5</td>\n",
       "      <td>2021-02-25</td>\n",
       "      <td>2</td>\n",
       "    </tr>\n",
       "    <tr>\n",
       "      <th>6768</th>\n",
       "      <td>718</td>\n",
       "      <td>5197.436649</td>\n",
       "      <td>0.5</td>\n",
       "      <td>2021-02-11</td>\n",
       "      <td>2</td>\n",
       "    </tr>\n",
       "    <tr>\n",
       "      <th>...</th>\n",
       "      <td>...</td>\n",
       "      <td>...</td>\n",
       "      <td>...</td>\n",
       "      <td>...</td>\n",
       "      <td>...</td>\n",
       "    </tr>\n",
       "    <tr>\n",
       "      <th>17004</th>\n",
       "      <td>1460</td>\n",
       "      <td>5531.335845</td>\n",
       "      <td>0.5</td>\n",
       "      <td>2021-01-19</td>\n",
       "      <td>1</td>\n",
       "    </tr>\n",
       "    <tr>\n",
       "      <th>17242</th>\n",
       "      <td>1477</td>\n",
       "      <td>6724.932981</td>\n",
       "      <td>0.5</td>\n",
       "      <td>2021-01-12</td>\n",
       "      <td>1</td>\n",
       "    </tr>\n",
       "    <tr>\n",
       "      <th>17314</th>\n",
       "      <td>1483</td>\n",
       "      <td>4445.481070</td>\n",
       "      <td>0.5</td>\n",
       "      <td>2021-03-06</td>\n",
       "      <td>3</td>\n",
       "    </tr>\n",
       "    <tr>\n",
       "      <th>17505</th>\n",
       "      <td>1496</td>\n",
       "      <td>5722.551787</td>\n",
       "      <td>0.5</td>\n",
       "      <td>2021-02-14</td>\n",
       "      <td>2</td>\n",
       "    </tr>\n",
       "    <tr>\n",
       "      <th>17909</th>\n",
       "      <td>1524</td>\n",
       "      <td>4103.998874</td>\n",
       "      <td>0.5</td>\n",
       "      <td>2021-06-18</td>\n",
       "      <td>6</td>\n",
       "    </tr>\n",
       "  </tbody>\n",
       "</table>\n",
       "<p>95 rows × 5 columns</p>\n",
       "</div>"
      ],
      "text/plain": [
       "       user_id     distance  duration       date  month\n",
       "6531       701  4196.445201       0.5 2021-08-31      8\n",
       "6570       704  4830.824371       0.5 2021-10-14     10\n",
       "6680       712  4684.004397       0.5 2021-03-04      3\n",
       "6695       713  5215.642710       0.5 2021-02-25      2\n",
       "6768       718  5197.436649       0.5 2021-02-11      2\n",
       "...        ...          ...       ...        ...    ...\n",
       "17004     1460  5531.335845       0.5 2021-01-19      1\n",
       "17242     1477  6724.932981       0.5 2021-01-12      1\n",
       "17314     1483  4445.481070       0.5 2021-03-06      3\n",
       "17505     1496  5722.551787       0.5 2021-02-14      2\n",
       "17909     1524  4103.998874       0.5 2021-06-18      6\n",
       "\n",
       "[95 rows x 5 columns]"
      ]
     },
     "execution_count": 10,
     "metadata": {},
     "output_type": "execute_result"
    }
   ],
   "source": [
    "df_rides.loc[df_rides['duration'] == 0.500000]"
   ]
  },
  {
   "cell_type": "markdown",
   "id": "277ab357",
   "metadata": {},
   "source": [
    "По непонятным причинам в 95 случаях клиенты GoFast использовали самокат всего 0.5 минут и приодолели расстояние около 5.000 метров (не думаю, что они двигались с постоянной скоростью ~166 м/с). Но удалить эти данные мы не можем, так как это повлияет на выручку компании. Скорее всего это может быть системная ошибка."
   ]
  },
  {
   "cell_type": "markdown",
   "id": "1cafbc60",
   "metadata": {},
   "source": [
    "**Промежуточный вывод:** Была проведена предобработка данных: заменен тип данных в столбце date (object -> datetime), создали столбец month на основе столбца date и были удалены неявные дубликаты. Были оставлены данные о длительности поездки в 0.5 минуты, так как они будут необходимы для расчёта выручки. После предобработки можно приступать к исследовательскому анализу."
   ]
  },
  {
   "cell_type": "markdown",
   "id": "6050077d",
   "metadata": {},
   "source": [
    "Проверим кол-во строк в датафреймах после предобработки. Очевидно, что кол-во строк уменьшилось..."
   ]
  },
  {
   "cell_type": "code",
   "execution_count": 11,
   "id": "80e131a4",
   "metadata": {},
   "outputs": [
    {
     "name": "stdout",
     "output_type": "stream",
     "text": [
      "1534\n",
      "18068\n",
      "2\n"
     ]
    }
   ],
   "source": [
    "print(df_users.shape[0])\n",
    "print(df_rides.shape[0])\n",
    "print(df_sub.shape[0])"
   ]
  },
  {
   "cell_type": "markdown",
   "id": "212593c7",
   "metadata": {},
   "source": [
    "## 3. Исследовательский анализ данных"
   ]
  },
  {
   "cell_type": "markdown",
   "id": "d7a4f7fb",
   "metadata": {},
   "source": [
    "Займемся визуализацией данных по представленному плану."
   ]
  },
  {
   "cell_type": "markdown",
   "id": "ca8f339f",
   "metadata": {},
   "source": [
    "### 3.1.  Частота встречаемости городов"
   ]
  },
  {
   "cell_type": "markdown",
   "id": "306a4160",
   "metadata": {},
   "source": [
    "Посмотрим через функцию value_counts() сколько раз встречается каждый город."
   ]
  },
  {
   "cell_type": "code",
   "execution_count": 12,
   "id": "817a12d4",
   "metadata": {},
   "outputs": [
    {
     "data": {
      "text/plain": [
       "Пятигорск         219\n",
       "Екатеринбург      204\n",
       "Ростов-на-Дону    198\n",
       "Краснодар         193\n",
       "Сочи              189\n",
       "Омск              183\n",
       "Тюмень            180\n",
       "Москва            168\n",
       "Name: city, dtype: int64"
      ]
     },
     "execution_count": 12,
     "metadata": {},
     "output_type": "execute_result"
    }
   ],
   "source": [
    "df_users['city'].value_counts()"
   ]
  },
  {
   "cell_type": "code",
   "execution_count": 13,
   "id": "6d61e261",
   "metadata": {},
   "outputs": [
    {
     "data": {
      "image/png": "[encoded data removed]",
      "text/plain": [
       "<Figure size 432x288 with 1 Axes>"
      ]
     },
     "metadata": {
      "needs_background": "light"
     },
     "output_type": "display_data"
    }
   ],
   "source": [
    "#построим график для частоты встречаемости городов\n",
    "#в данном случае подойдет горизонтальный барплот для информативности\n",
    "\n",
    "sns.barplot(\n",
    "    x=df_users['city'].value_counts(),\n",
    "    y=df_users['city'].value_counts().index,\n",
    "    orient='h'\n",
    "    ).set(title=\"Частота встречаемости городов\")\n",
    "plt.ylabel(\"Город\")\n",
    "plt.xlabel(\"Частота\");"
   ]
  },
  {
   "cell_type": "markdown",
   "id": "f3b64cc2",
   "metadata": {},
   "source": [
    "**Вывод по графику:**\n",
    "1) Наименее встречающийся город - Москва (что странно на первый взгляд, учитывая населенность города)\\\n",
    "2) Наибольшее кол-во встречаемости в городе Пятигорск\\\n",
    "3) Отметку выше 200 упоминаний пересекли 2 города - Пятигорск и Екатеринбург (Ростов-на-Дону приблизился к отметке 200 упоминаний)\\\n",
    "\\\n",
    "Пятигорск встречается около 219 раз, Екатеринбург - 204 раз, Ростов-на-Дону - 198 раз, Краснодар - 193 раз, Сочи - 189 раз, Омск - 183 раз, Тюмень - 180, Москва - 168 раз"
   ]
  },
  {
   "cell_type": "markdown",
   "id": "75f1a702",
   "metadata": {},
   "source": [
    "### 3.2. Соотношение пользователей с подпиской и без подписки"
   ]
  },
  {
   "cell_type": "code",
   "execution_count": 14,
   "id": "836f743a",
   "metadata": {},
   "outputs": [
    {
     "data": {
      "text/plain": [
       "free     835\n",
       "ultra    699\n",
       "Name: subscription_type, dtype: int64"
      ]
     },
     "execution_count": 14,
     "metadata": {},
     "output_type": "execute_result"
    }
   ],
   "source": [
    "#кол-во людей с подпиской и без запишем в переменную subs для диаграммы\n",
    "subs = df_users['subscription_type'].value_counts()\n",
    "subs"
   ]
  },
  {
   "cell_type": "code",
   "execution_count": 15,
   "id": "5bba990a",
   "metadata": {},
   "outputs": [
    {
     "data": {
      "image/png": "[encoded data removed]",
      "text/plain": [
       "<Figure size 720x720 with 1 Axes>"
      ]
     },
     "metadata": {},
     "output_type": "display_data"
    }
   ],
   "source": [
    "#построим график соотношения пользователей с подпиской и без неё\n",
    "#рассмотрим соотношение при помощи круговой диаграммы\n",
    "\n",
    "df_users['subscription_type'].value_counts().plot(\n",
    "    kind = 'pie', \n",
    "    y = subs,\n",
    "    autopct = '%1.0f%%',\n",
    "    figsize=(10,10), \n",
    "    title = 'Соотношение пользователей с подпиской и без подписки');"
   ]
  },
  {
   "cell_type": "markdown",
   "id": "fc37ab8a",
   "metadata": {},
   "source": [
    "**Вывод по графику:** На круговой диаграмме заметна разница между клиентами компании с подпиской и без. Доля пользователей с подпиской составляет 46%, а без подписки - 54%. Клиентов без подписки больше на 136 человек."
   ]
  },
  {
   "cell_type": "markdown",
   "id": "d27d5661",
   "metadata": {},
   "source": [
    "### 3.3. Возраст пользователей"
   ]
  },
  {
   "cell_type": "code",
   "execution_count": 16,
   "id": "9e560077",
   "metadata": {},
   "outputs": [
    {
     "data": {
      "image/png": "[encoded data removed]",
      "text/plain": [
       "<Figure size 720x360 with 1 Axes>"
      ]
     },
     "metadata": {
      "needs_background": "light"
     },
     "output_type": "display_data"
    }
   ],
   "source": [
    "#построим график возрастов пользователей сервиса\n",
    "df_users['age'].hist(\n",
    "    bins=30,\n",
    "    figsize=(10,5),\n",
    "    legend='возраст',\n",
    "    grid=True).set(title=\"Возраст пользователей\")\n",
    "plt.ylabel(\"Частота\")\n",
    "plt.xlabel(\"Возраст\");"
   ]
  },
  {
   "cell_type": "markdown",
   "id": "0375a3ff",
   "metadata": {},
   "source": [
    "**Вывод по графику:** Чаще всего пользуется услугами компании молодёж. Средний диапазон пользователей - 21-28 лет. *Не считаю правильным, что детям до 18 допускается ездить на самокате (заметка)*."
   ]
  },
  {
   "cell_type": "markdown",
   "id": "a66ec9be",
   "metadata": {},
   "source": [
    "### 3.4. Расстояние, которое пользователь преодолел за одну поездку"
   ]
  },
  {
   "cell_type": "code",
   "execution_count": 17,
   "id": "1a0e9671",
   "metadata": {},
   "outputs": [
    {
     "data": {
      "image/png": "[encoded data removed]",
      "text/plain": [
       "<Figure size 720x360 with 1 Axes>"
      ]
     },
     "metadata": {
      "needs_background": "light"
     },
     "output_type": "display_data"
    }
   ],
   "source": [
    "df_rides['distance'].hist(\n",
    "    bins=30,\n",
    "    figsize=(10,5),\n",
    "    legend='возраст',\n",
    "    grid=True)\n",
    "plt.ylabel(\"Частота\")\n",
    "plt.xlabel(\"Дистанция\");"
   ]
  },
  {
   "cell_type": "markdown",
   "id": "b1410c23",
   "metadata": {},
   "source": [
    "**Вывод по графику:** Чаще всего клиенты компании GoFast преодолевают расстояние в 3000 метров (около 2000 поездок). Меньше всего преодолевают большие расстояния (5.000-7.000 метров)."
   ]
  },
  {
   "cell_type": "markdown",
   "id": "0bf1e68d",
   "metadata": {},
   "source": [
    "### 3.5. Продолжительность поездок"
   ]
  },
  {
   "cell_type": "code",
   "execution_count": 18,
   "id": "d0e9dab0",
   "metadata": {},
   "outputs": [
    {
     "data": {
      "image/png": "[encoded data removed]",
      "text/plain": [
       "<Figure size 720x360 with 1 Axes>"
      ]
     },
     "metadata": {
      "needs_background": "light"
     },
     "output_type": "display_data"
    }
   ],
   "source": [
    "df_rides['duration'].hist(\n",
    "    bins=30,\n",
    "    figsize=(10,5),\n",
    "    legend='возраст',\n",
    "    grid=True)\n",
    "plt.ylabel(\"Частота\")\n",
    "plt.xlabel(\"Время\");"
   ]
  },
  {
   "cell_type": "markdown",
   "id": "d0bbc470",
   "metadata": {},
   "source": [
    "**Вывод по графику:** Пик по времени составляет 15-20 минут. Также, как и в случае с дистанцией, мало кто тратит болльшое кол-во времени на езду. В основном это недолгие поездки. "
   ]
  },
  {
   "cell_type": "markdown",
   "id": "3f2fe0a0",
   "metadata": {},
   "source": [
    "### **Промежуточный вывод:**"
   ]
  },
  {
   "cell_type": "markdown",
   "id": "115dacb8",
   "metadata": {},
   "source": [
    "На этапе исследовательского анализа данных были рассмотрены следующие данные:\n",
    "1) Частота встречаемости городов:\\\n",
    "    Наименее встречающийся город - Москва - 169 раз\\\n",
    "    Наибольшее кол-во встречаемости в городе Пятигорск - 219 раз\\\n",
    "    Остальные города указаны в пункте 3.1\\\n",
    "2) Соотношение пользователей с подпиской и без неё:\\\n",
    "    Пользователей без подписки оказалось больше, чем с подпиской (отношение 54% к 46%)\\\n",
    "3) Возраст пользователей:\\\n",
    "    Чаще всего пользуется услугами компании молодёж. Средний диапазон пользователей - 21-28 лет. Замечание к данным: странно, что дети (младше 18) могут пользоваться услугами компании\n",
    "4) Расстояние за 1 поездку:\\\n",
    "    Чаще всего люди преодолевают расстояние в 3000-3100 метров, наименьшее кол-во поездок на большие расстояния (+5000 метров)\\\n",
    "5) Продолжительность поездок:\\\n",
    "    Пик времени составил - 17-18 минут. Много людей берут самокаты на 15-20 минут. Что в случае с дистанцией, что с временем - много ресурсов не затраичается на поездки"
   ]
  },
  {
   "cell_type": "markdown",
   "id": "4ef51331",
   "metadata": {},
   "source": [
    "### Шаг 4. Объединение данных"
   ]
  },
  {
   "cell_type": "markdown",
   "id": "92f95068",
   "metadata": {},
   "source": [
    "Объеденим данные трёх датафреймов 'df_users', 'df_rides' и 'df_sub' по столбцам user_id subscription_type при помощи функции merge()."
   ]
  },
  {
   "cell_type": "code",
   "execution_count": 19,
   "id": "71a14bd7",
   "metadata": {},
   "outputs": [
    {
     "data": {
      "text/html": [
       "<div>\n",
       "<style scoped>\n",
       "    .dataframe tbody tr th:only-of-type {\n",
       "        vertical-align: middle;\n",
       "    }\n",
       "\n",
       "    .dataframe tbody tr th {\n",
       "        vertical-align: top;\n",
       "    }\n",
       "\n",
       "    .dataframe thead th {\n",
       "        text-align: right;\n",
       "    }\n",
       "</style>\n",
       "<table border=\"1\" class=\"dataframe\">\n",
       "  <thead>\n",
       "    <tr style=\"text-align: right;\">\n",
       "      <th></th>\n",
       "      <th>user_id</th>\n",
       "      <th>name</th>\n",
       "      <th>age</th>\n",
       "      <th>city</th>\n",
       "      <th>subscription_type</th>\n",
       "      <th>minute_price</th>\n",
       "      <th>start_ride_price</th>\n",
       "      <th>subscription_fee</th>\n",
       "      <th>distance</th>\n",
       "      <th>duration</th>\n",
       "      <th>date</th>\n",
       "      <th>month</th>\n",
       "    </tr>\n",
       "  </thead>\n",
       "  <tbody>\n",
       "    <tr>\n",
       "      <th>0</th>\n",
       "      <td>1</td>\n",
       "      <td>Кира</td>\n",
       "      <td>22</td>\n",
       "      <td>Тюмень</td>\n",
       "      <td>ultra</td>\n",
       "      <td>6</td>\n",
       "      <td>0</td>\n",
       "      <td>199</td>\n",
       "      <td>4409.919140</td>\n",
       "      <td>25.599769</td>\n",
       "      <td>2021-01-01</td>\n",
       "      <td>1</td>\n",
       "    </tr>\n",
       "    <tr>\n",
       "      <th>1</th>\n",
       "      <td>1</td>\n",
       "      <td>Кира</td>\n",
       "      <td>22</td>\n",
       "      <td>Тюмень</td>\n",
       "      <td>ultra</td>\n",
       "      <td>6</td>\n",
       "      <td>0</td>\n",
       "      <td>199</td>\n",
       "      <td>2617.592153</td>\n",
       "      <td>15.816871</td>\n",
       "      <td>2021-01-18</td>\n",
       "      <td>1</td>\n",
       "    </tr>\n",
       "    <tr>\n",
       "      <th>2</th>\n",
       "      <td>1</td>\n",
       "      <td>Кира</td>\n",
       "      <td>22</td>\n",
       "      <td>Тюмень</td>\n",
       "      <td>ultra</td>\n",
       "      <td>6</td>\n",
       "      <td>0</td>\n",
       "      <td>199</td>\n",
       "      <td>754.159807</td>\n",
       "      <td>6.232113</td>\n",
       "      <td>2021-04-20</td>\n",
       "      <td>4</td>\n",
       "    </tr>\n",
       "    <tr>\n",
       "      <th>3</th>\n",
       "      <td>1</td>\n",
       "      <td>Кира</td>\n",
       "      <td>22</td>\n",
       "      <td>Тюмень</td>\n",
       "      <td>ultra</td>\n",
       "      <td>6</td>\n",
       "      <td>0</td>\n",
       "      <td>199</td>\n",
       "      <td>2694.783254</td>\n",
       "      <td>18.511000</td>\n",
       "      <td>2021-08-11</td>\n",
       "      <td>8</td>\n",
       "    </tr>\n",
       "    <tr>\n",
       "      <th>4</th>\n",
       "      <td>1</td>\n",
       "      <td>Кира</td>\n",
       "      <td>22</td>\n",
       "      <td>Тюмень</td>\n",
       "      <td>ultra</td>\n",
       "      <td>6</td>\n",
       "      <td>0</td>\n",
       "      <td>199</td>\n",
       "      <td>4028.687306</td>\n",
       "      <td>26.265803</td>\n",
       "      <td>2021-08-28</td>\n",
       "      <td>8</td>\n",
       "    </tr>\n",
       "    <tr>\n",
       "      <th>...</th>\n",
       "      <td>...</td>\n",
       "      <td>...</td>\n",
       "      <td>...</td>\n",
       "      <td>...</td>\n",
       "      <td>...</td>\n",
       "      <td>...</td>\n",
       "      <td>...</td>\n",
       "      <td>...</td>\n",
       "      <td>...</td>\n",
       "      <td>...</td>\n",
       "      <td>...</td>\n",
       "      <td>...</td>\n",
       "    </tr>\n",
       "    <tr>\n",
       "      <th>18063</th>\n",
       "      <td>1534</td>\n",
       "      <td>Альберт</td>\n",
       "      <td>25</td>\n",
       "      <td>Краснодар</td>\n",
       "      <td>free</td>\n",
       "      <td>8</td>\n",
       "      <td>50</td>\n",
       "      <td>0</td>\n",
       "      <td>3781.098080</td>\n",
       "      <td>19.822962</td>\n",
       "      <td>2021-11-04</td>\n",
       "      <td>11</td>\n",
       "    </tr>\n",
       "    <tr>\n",
       "      <th>18064</th>\n",
       "      <td>1534</td>\n",
       "      <td>Альберт</td>\n",
       "      <td>25</td>\n",
       "      <td>Краснодар</td>\n",
       "      <td>free</td>\n",
       "      <td>8</td>\n",
       "      <td>50</td>\n",
       "      <td>0</td>\n",
       "      <td>2840.423057</td>\n",
       "      <td>21.409799</td>\n",
       "      <td>2021-11-16</td>\n",
       "      <td>11</td>\n",
       "    </tr>\n",
       "    <tr>\n",
       "      <th>18065</th>\n",
       "      <td>1534</td>\n",
       "      <td>Альберт</td>\n",
       "      <td>25</td>\n",
       "      <td>Краснодар</td>\n",
       "      <td>free</td>\n",
       "      <td>8</td>\n",
       "      <td>50</td>\n",
       "      <td>0</td>\n",
       "      <td>3826.185507</td>\n",
       "      <td>18.435051</td>\n",
       "      <td>2021-11-18</td>\n",
       "      <td>11</td>\n",
       "    </tr>\n",
       "    <tr>\n",
       "      <th>18066</th>\n",
       "      <td>1534</td>\n",
       "      <td>Альберт</td>\n",
       "      <td>25</td>\n",
       "      <td>Краснодар</td>\n",
       "      <td>free</td>\n",
       "      <td>8</td>\n",
       "      <td>50</td>\n",
       "      <td>0</td>\n",
       "      <td>2902.308661</td>\n",
       "      <td>16.674362</td>\n",
       "      <td>2021-11-27</td>\n",
       "      <td>11</td>\n",
       "    </tr>\n",
       "    <tr>\n",
       "      <th>18067</th>\n",
       "      <td>1534</td>\n",
       "      <td>Альберт</td>\n",
       "      <td>25</td>\n",
       "      <td>Краснодар</td>\n",
       "      <td>free</td>\n",
       "      <td>8</td>\n",
       "      <td>50</td>\n",
       "      <td>0</td>\n",
       "      <td>2371.711192</td>\n",
       "      <td>15.893917</td>\n",
       "      <td>2021-12-29</td>\n",
       "      <td>12</td>\n",
       "    </tr>\n",
       "  </tbody>\n",
       "</table>\n",
       "<p>18068 rows × 12 columns</p>\n",
       "</div>"
      ],
      "text/plain": [
       "       user_id     name  age       city subscription_type  minute_price  \\\n",
       "0            1     Кира   22     Тюмень             ultra             6   \n",
       "1            1     Кира   22     Тюмень             ultra             6   \n",
       "2            1     Кира   22     Тюмень             ultra             6   \n",
       "3            1     Кира   22     Тюмень             ultra             6   \n",
       "4            1     Кира   22     Тюмень             ultra             6   \n",
       "...        ...      ...  ...        ...               ...           ...   \n",
       "18063     1534  Альберт   25  Краснодар              free             8   \n",
       "18064     1534  Альберт   25  Краснодар              free             8   \n",
       "18065     1534  Альберт   25  Краснодар              free             8   \n",
       "18066     1534  Альберт   25  Краснодар              free             8   \n",
       "18067     1534  Альберт   25  Краснодар              free             8   \n",
       "\n",
       "       start_ride_price  subscription_fee     distance   duration       date  \\\n",
       "0                     0               199  4409.919140  25.599769 2021-01-01   \n",
       "1                     0               199  2617.592153  15.816871 2021-01-18   \n",
       "2                     0               199   754.159807   6.232113 2021-04-20   \n",
       "3                     0               199  2694.783254  18.511000 2021-08-11   \n",
       "4                     0               199  4028.687306  26.265803 2021-08-28   \n",
       "...                 ...               ...          ...        ...        ...   \n",
       "18063                50                 0  3781.098080  19.822962 2021-11-04   \n",
       "18064                50                 0  2840.423057  21.409799 2021-11-16   \n",
       "18065                50                 0  3826.185507  18.435051 2021-11-18   \n",
       "18066                50                 0  2902.308661  16.674362 2021-11-27   \n",
       "18067                50                 0  2371.711192  15.893917 2021-12-29   \n",
       "\n",
       "       month  \n",
       "0          1  \n",
       "1          1  \n",
       "2          4  \n",
       "3          8  \n",
       "4          8  \n",
       "...      ...  \n",
       "18063     11  \n",
       "18064     11  \n",
       "18065     11  \n",
       "18066     11  \n",
       "18067     12  \n",
       "\n",
       "[18068 rows x 12 columns]"
      ]
     },
     "execution_count": 19,
     "metadata": {},
     "output_type": "execute_result"
    }
   ],
   "source": [
    "#объеденим датафреймы по левой таблице\n",
    "df_merged = df_users.merge(df_sub, on='subscription_type', how='left').merge(df_rides, on='user_id',how='left')\n",
    "df_merged"
   ]
  },
  {
   "cell_type": "code",
   "execution_count": 20,
   "id": "0d8728ba",
   "metadata": {},
   "outputs": [
    {
     "name": "stdout",
     "output_type": "stream",
     "text": [
      "user_id              0\n",
      "name                 0\n",
      "age                  0\n",
      "city                 0\n",
      "subscription_type    0\n",
      "minute_price         0\n",
      "start_ride_price     0\n",
      "subscription_fee     0\n",
      "distance             0\n",
      "duration             0\n",
      "date                 0\n",
      "month                0\n",
      "dtype: int64\n",
      "Количество строк в объединенном датафрейме: 18068\n"
     ]
    }
   ],
   "source": [
    "#проведем проверку размера датафрейма после объединения данных и проверку на пропуски в объединенном датафрейме\n",
    "print(df_merged.isna().sum())\n",
    "print('Количество строк в объединенном датафрейме:',df_merged.shape[0])"
   ]
  },
  {
   "cell_type": "markdown",
   "id": "dc2aa109",
   "metadata": {},
   "source": [
    "* В объединенном датафрейме нет пропущенных данных и количество строк соответствует самому большому датафрейму (поездки)."
   ]
  },
  {
   "cell_type": "code",
   "execution_count": 21,
   "id": "24b741d4",
   "metadata": {},
   "outputs": [
    {
     "data": {
      "text/html": [
       "<div>\n",
       "<style scoped>\n",
       "    .dataframe tbody tr th:only-of-type {\n",
       "        vertical-align: middle;\n",
       "    }\n",
       "\n",
       "    .dataframe tbody tr th {\n",
       "        vertical-align: top;\n",
       "    }\n",
       "\n",
       "    .dataframe thead th {\n",
       "        text-align: right;\n",
       "    }\n",
       "</style>\n",
       "<table border=\"1\" class=\"dataframe\">\n",
       "  <thead>\n",
       "    <tr style=\"text-align: right;\">\n",
       "      <th></th>\n",
       "      <th>user_id</th>\n",
       "      <th>name</th>\n",
       "      <th>age</th>\n",
       "      <th>city</th>\n",
       "      <th>subscription_type</th>\n",
       "      <th>minute_price</th>\n",
       "      <th>start_ride_price</th>\n",
       "      <th>subscription_fee</th>\n",
       "      <th>distance</th>\n",
       "      <th>duration</th>\n",
       "      <th>date</th>\n",
       "      <th>month</th>\n",
       "    </tr>\n",
       "  </thead>\n",
       "  <tbody>\n",
       "    <tr>\n",
       "      <th>0</th>\n",
       "      <td>1</td>\n",
       "      <td>Кира</td>\n",
       "      <td>22</td>\n",
       "      <td>Тюмень</td>\n",
       "      <td>ultra</td>\n",
       "      <td>6</td>\n",
       "      <td>0</td>\n",
       "      <td>199</td>\n",
       "      <td>4409.919140</td>\n",
       "      <td>25.599769</td>\n",
       "      <td>2021-01-01</td>\n",
       "      <td>1</td>\n",
       "    </tr>\n",
       "    <tr>\n",
       "      <th>1</th>\n",
       "      <td>1</td>\n",
       "      <td>Кира</td>\n",
       "      <td>22</td>\n",
       "      <td>Тюмень</td>\n",
       "      <td>ultra</td>\n",
       "      <td>6</td>\n",
       "      <td>0</td>\n",
       "      <td>199</td>\n",
       "      <td>2617.592153</td>\n",
       "      <td>15.816871</td>\n",
       "      <td>2021-01-18</td>\n",
       "      <td>1</td>\n",
       "    </tr>\n",
       "    <tr>\n",
       "      <th>2</th>\n",
       "      <td>1</td>\n",
       "      <td>Кира</td>\n",
       "      <td>22</td>\n",
       "      <td>Тюмень</td>\n",
       "      <td>ultra</td>\n",
       "      <td>6</td>\n",
       "      <td>0</td>\n",
       "      <td>199</td>\n",
       "      <td>754.159807</td>\n",
       "      <td>6.232113</td>\n",
       "      <td>2021-04-20</td>\n",
       "      <td>4</td>\n",
       "    </tr>\n",
       "    <tr>\n",
       "      <th>3</th>\n",
       "      <td>1</td>\n",
       "      <td>Кира</td>\n",
       "      <td>22</td>\n",
       "      <td>Тюмень</td>\n",
       "      <td>ultra</td>\n",
       "      <td>6</td>\n",
       "      <td>0</td>\n",
       "      <td>199</td>\n",
       "      <td>2694.783254</td>\n",
       "      <td>18.511000</td>\n",
       "      <td>2021-08-11</td>\n",
       "      <td>8</td>\n",
       "    </tr>\n",
       "    <tr>\n",
       "      <th>4</th>\n",
       "      <td>1</td>\n",
       "      <td>Кира</td>\n",
       "      <td>22</td>\n",
       "      <td>Тюмень</td>\n",
       "      <td>ultra</td>\n",
       "      <td>6</td>\n",
       "      <td>0</td>\n",
       "      <td>199</td>\n",
       "      <td>4028.687306</td>\n",
       "      <td>26.265803</td>\n",
       "      <td>2021-08-28</td>\n",
       "      <td>8</td>\n",
       "    </tr>\n",
       "    <tr>\n",
       "      <th>...</th>\n",
       "      <td>...</td>\n",
       "      <td>...</td>\n",
       "      <td>...</td>\n",
       "      <td>...</td>\n",
       "      <td>...</td>\n",
       "      <td>...</td>\n",
       "      <td>...</td>\n",
       "      <td>...</td>\n",
       "      <td>...</td>\n",
       "      <td>...</td>\n",
       "      <td>...</td>\n",
       "      <td>...</td>\n",
       "    </tr>\n",
       "    <tr>\n",
       "      <th>6495</th>\n",
       "      <td>699</td>\n",
       "      <td>Оксана</td>\n",
       "      <td>22</td>\n",
       "      <td>Москва</td>\n",
       "      <td>ultra</td>\n",
       "      <td>6</td>\n",
       "      <td>0</td>\n",
       "      <td>199</td>\n",
       "      <td>3973.046497</td>\n",
       "      <td>24.671163</td>\n",
       "      <td>2021-08-29</td>\n",
       "      <td>8</td>\n",
       "    </tr>\n",
       "    <tr>\n",
       "      <th>6496</th>\n",
       "      <td>699</td>\n",
       "      <td>Оксана</td>\n",
       "      <td>22</td>\n",
       "      <td>Москва</td>\n",
       "      <td>ultra</td>\n",
       "      <td>6</td>\n",
       "      <td>0</td>\n",
       "      <td>199</td>\n",
       "      <td>3288.702563</td>\n",
       "      <td>15.892886</td>\n",
       "      <td>2021-09-12</td>\n",
       "      <td>9</td>\n",
       "    </tr>\n",
       "    <tr>\n",
       "      <th>6497</th>\n",
       "      <td>699</td>\n",
       "      <td>Оксана</td>\n",
       "      <td>22</td>\n",
       "      <td>Москва</td>\n",
       "      <td>ultra</td>\n",
       "      <td>6</td>\n",
       "      <td>0</td>\n",
       "      <td>199</td>\n",
       "      <td>3076.159348</td>\n",
       "      <td>14.389525</td>\n",
       "      <td>2021-09-26</td>\n",
       "      <td>9</td>\n",
       "    </tr>\n",
       "    <tr>\n",
       "      <th>6498</th>\n",
       "      <td>699</td>\n",
       "      <td>Оксана</td>\n",
       "      <td>22</td>\n",
       "      <td>Москва</td>\n",
       "      <td>ultra</td>\n",
       "      <td>6</td>\n",
       "      <td>0</td>\n",
       "      <td>199</td>\n",
       "      <td>4707.845501</td>\n",
       "      <td>15.839579</td>\n",
       "      <td>2021-10-17</td>\n",
       "      <td>10</td>\n",
       "    </tr>\n",
       "    <tr>\n",
       "      <th>6499</th>\n",
       "      <td>699</td>\n",
       "      <td>Оксана</td>\n",
       "      <td>22</td>\n",
       "      <td>Москва</td>\n",
       "      <td>ultra</td>\n",
       "      <td>6</td>\n",
       "      <td>0</td>\n",
       "      <td>199</td>\n",
       "      <td>3202.890770</td>\n",
       "      <td>25.217345</td>\n",
       "      <td>2021-12-03</td>\n",
       "      <td>12</td>\n",
       "    </tr>\n",
       "  </tbody>\n",
       "</table>\n",
       "<p>6500 rows × 12 columns</p>\n",
       "</div>"
      ],
      "text/plain": [
       "      user_id    name  age    city subscription_type  minute_price  \\\n",
       "0           1    Кира   22  Тюмень             ultra             6   \n",
       "1           1    Кира   22  Тюмень             ultra             6   \n",
       "2           1    Кира   22  Тюмень             ultra             6   \n",
       "3           1    Кира   22  Тюмень             ultra             6   \n",
       "4           1    Кира   22  Тюмень             ultra             6   \n",
       "...       ...     ...  ...     ...               ...           ...   \n",
       "6495      699  Оксана   22  Москва             ultra             6   \n",
       "6496      699  Оксана   22  Москва             ultra             6   \n",
       "6497      699  Оксана   22  Москва             ultra             6   \n",
       "6498      699  Оксана   22  Москва             ultra             6   \n",
       "6499      699  Оксана   22  Москва             ultra             6   \n",
       "\n",
       "      start_ride_price  subscription_fee     distance   duration       date  \\\n",
       "0                    0               199  4409.919140  25.599769 2021-01-01   \n",
       "1                    0               199  2617.592153  15.816871 2021-01-18   \n",
       "2                    0               199   754.159807   6.232113 2021-04-20   \n",
       "3                    0               199  2694.783254  18.511000 2021-08-11   \n",
       "4                    0               199  4028.687306  26.265803 2021-08-28   \n",
       "...                ...               ...          ...        ...        ...   \n",
       "6495                 0               199  3973.046497  24.671163 2021-08-29   \n",
       "6496                 0               199  3288.702563  15.892886 2021-09-12   \n",
       "6497                 0               199  3076.159348  14.389525 2021-09-26   \n",
       "6498                 0               199  4707.845501  15.839579 2021-10-17   \n",
       "6499                 0               199  3202.890770  25.217345 2021-12-03   \n",
       "\n",
       "      month  \n",
       "0         1  \n",
       "1         1  \n",
       "2         4  \n",
       "3         8  \n",
       "4         8  \n",
       "...     ...  \n",
       "6495      8  \n",
       "6496      9  \n",
       "6497      9  \n",
       "6498     10  \n",
       "6499     12  \n",
       "\n",
       "[6500 rows x 12 columns]"
      ]
     },
     "execution_count": 21,
     "metadata": {},
     "output_type": "execute_result"
    }
   ],
   "source": [
    "#создадим датафрейм с пользователями, у который имеется подписка\n",
    "with_sub = df_merged[df_merged['subscription_type'] == 'ultra']\n",
    "with_sub"
   ]
  },
  {
   "cell_type": "code",
   "execution_count": 22,
   "id": "1ffa3480",
   "metadata": {},
   "outputs": [
    {
     "data": {
      "text/html": [
       "<div>\n",
       "<style scoped>\n",
       "    .dataframe tbody tr th:only-of-type {\n",
       "        vertical-align: middle;\n",
       "    }\n",
       "\n",
       "    .dataframe tbody tr th {\n",
       "        vertical-align: top;\n",
       "    }\n",
       "\n",
       "    .dataframe thead th {\n",
       "        text-align: right;\n",
       "    }\n",
       "</style>\n",
       "<table border=\"1\" class=\"dataframe\">\n",
       "  <thead>\n",
       "    <tr style=\"text-align: right;\">\n",
       "      <th></th>\n",
       "      <th>user_id</th>\n",
       "      <th>name</th>\n",
       "      <th>age</th>\n",
       "      <th>city</th>\n",
       "      <th>subscription_type</th>\n",
       "      <th>minute_price</th>\n",
       "      <th>start_ride_price</th>\n",
       "      <th>subscription_fee</th>\n",
       "      <th>distance</th>\n",
       "      <th>duration</th>\n",
       "      <th>date</th>\n",
       "      <th>month</th>\n",
       "    </tr>\n",
       "  </thead>\n",
       "  <tbody>\n",
       "    <tr>\n",
       "      <th>6500</th>\n",
       "      <td>700</td>\n",
       "      <td>Айдар</td>\n",
       "      <td>22</td>\n",
       "      <td>Омск</td>\n",
       "      <td>free</td>\n",
       "      <td>8</td>\n",
       "      <td>50</td>\n",
       "      <td>0</td>\n",
       "      <td>2515.690719</td>\n",
       "      <td>14.944286</td>\n",
       "      <td>2021-01-02</td>\n",
       "      <td>1</td>\n",
       "    </tr>\n",
       "    <tr>\n",
       "      <th>6501</th>\n",
       "      <td>700</td>\n",
       "      <td>Айдар</td>\n",
       "      <td>22</td>\n",
       "      <td>Омск</td>\n",
       "      <td>free</td>\n",
       "      <td>8</td>\n",
       "      <td>50</td>\n",
       "      <td>0</td>\n",
       "      <td>846.932642</td>\n",
       "      <td>16.234663</td>\n",
       "      <td>2021-02-01</td>\n",
       "      <td>2</td>\n",
       "    </tr>\n",
       "    <tr>\n",
       "      <th>6502</th>\n",
       "      <td>700</td>\n",
       "      <td>Айдар</td>\n",
       "      <td>22</td>\n",
       "      <td>Омск</td>\n",
       "      <td>free</td>\n",
       "      <td>8</td>\n",
       "      <td>50</td>\n",
       "      <td>0</td>\n",
       "      <td>4004.434142</td>\n",
       "      <td>20.016628</td>\n",
       "      <td>2021-02-04</td>\n",
       "      <td>2</td>\n",
       "    </tr>\n",
       "    <tr>\n",
       "      <th>6503</th>\n",
       "      <td>700</td>\n",
       "      <td>Айдар</td>\n",
       "      <td>22</td>\n",
       "      <td>Омск</td>\n",
       "      <td>free</td>\n",
       "      <td>8</td>\n",
       "      <td>50</td>\n",
       "      <td>0</td>\n",
       "      <td>1205.911290</td>\n",
       "      <td>9.782872</td>\n",
       "      <td>2021-02-10</td>\n",
       "      <td>2</td>\n",
       "    </tr>\n",
       "    <tr>\n",
       "      <th>6504</th>\n",
       "      <td>700</td>\n",
       "      <td>Айдар</td>\n",
       "      <td>22</td>\n",
       "      <td>Омск</td>\n",
       "      <td>free</td>\n",
       "      <td>8</td>\n",
       "      <td>50</td>\n",
       "      <td>0</td>\n",
       "      <td>3047.379435</td>\n",
       "      <td>17.427673</td>\n",
       "      <td>2021-02-14</td>\n",
       "      <td>2</td>\n",
       "    </tr>\n",
       "    <tr>\n",
       "      <th>...</th>\n",
       "      <td>...</td>\n",
       "      <td>...</td>\n",
       "      <td>...</td>\n",
       "      <td>...</td>\n",
       "      <td>...</td>\n",
       "      <td>...</td>\n",
       "      <td>...</td>\n",
       "      <td>...</td>\n",
       "      <td>...</td>\n",
       "      <td>...</td>\n",
       "      <td>...</td>\n",
       "      <td>...</td>\n",
       "    </tr>\n",
       "    <tr>\n",
       "      <th>18063</th>\n",
       "      <td>1534</td>\n",
       "      <td>Альберт</td>\n",
       "      <td>25</td>\n",
       "      <td>Краснодар</td>\n",
       "      <td>free</td>\n",
       "      <td>8</td>\n",
       "      <td>50</td>\n",
       "      <td>0</td>\n",
       "      <td>3781.098080</td>\n",
       "      <td>19.822962</td>\n",
       "      <td>2021-11-04</td>\n",
       "      <td>11</td>\n",
       "    </tr>\n",
       "    <tr>\n",
       "      <th>18064</th>\n",
       "      <td>1534</td>\n",
       "      <td>Альберт</td>\n",
       "      <td>25</td>\n",
       "      <td>Краснодар</td>\n",
       "      <td>free</td>\n",
       "      <td>8</td>\n",
       "      <td>50</td>\n",
       "      <td>0</td>\n",
       "      <td>2840.423057</td>\n",
       "      <td>21.409799</td>\n",
       "      <td>2021-11-16</td>\n",
       "      <td>11</td>\n",
       "    </tr>\n",
       "    <tr>\n",
       "      <th>18065</th>\n",
       "      <td>1534</td>\n",
       "      <td>Альберт</td>\n",
       "      <td>25</td>\n",
       "      <td>Краснодар</td>\n",
       "      <td>free</td>\n",
       "      <td>8</td>\n",
       "      <td>50</td>\n",
       "      <td>0</td>\n",
       "      <td>3826.185507</td>\n",
       "      <td>18.435051</td>\n",
       "      <td>2021-11-18</td>\n",
       "      <td>11</td>\n",
       "    </tr>\n",
       "    <tr>\n",
       "      <th>18066</th>\n",
       "      <td>1534</td>\n",
       "      <td>Альберт</td>\n",
       "      <td>25</td>\n",
       "      <td>Краснодар</td>\n",
       "      <td>free</td>\n",
       "      <td>8</td>\n",
       "      <td>50</td>\n",
       "      <td>0</td>\n",
       "      <td>2902.308661</td>\n",
       "      <td>16.674362</td>\n",
       "      <td>2021-11-27</td>\n",
       "      <td>11</td>\n",
       "    </tr>\n",
       "    <tr>\n",
       "      <th>18067</th>\n",
       "      <td>1534</td>\n",
       "      <td>Альберт</td>\n",
       "      <td>25</td>\n",
       "      <td>Краснодар</td>\n",
       "      <td>free</td>\n",
       "      <td>8</td>\n",
       "      <td>50</td>\n",
       "      <td>0</td>\n",
       "      <td>2371.711192</td>\n",
       "      <td>15.893917</td>\n",
       "      <td>2021-12-29</td>\n",
       "      <td>12</td>\n",
       "    </tr>\n",
       "  </tbody>\n",
       "</table>\n",
       "<p>11568 rows × 12 columns</p>\n",
       "</div>"
      ],
      "text/plain": [
       "       user_id     name  age       city subscription_type  minute_price  \\\n",
       "6500       700    Айдар   22       Омск              free             8   \n",
       "6501       700    Айдар   22       Омск              free             8   \n",
       "6502       700    Айдар   22       Омск              free             8   \n",
       "6503       700    Айдар   22       Омск              free             8   \n",
       "6504       700    Айдар   22       Омск              free             8   \n",
       "...        ...      ...  ...        ...               ...           ...   \n",
       "18063     1534  Альберт   25  Краснодар              free             8   \n",
       "18064     1534  Альберт   25  Краснодар              free             8   \n",
       "18065     1534  Альберт   25  Краснодар              free             8   \n",
       "18066     1534  Альберт   25  Краснодар              free             8   \n",
       "18067     1534  Альберт   25  Краснодар              free             8   \n",
       "\n",
       "       start_ride_price  subscription_fee     distance   duration       date  \\\n",
       "6500                 50                 0  2515.690719  14.944286 2021-01-02   \n",
       "6501                 50                 0   846.932642  16.234663 2021-02-01   \n",
       "6502                 50                 0  4004.434142  20.016628 2021-02-04   \n",
       "6503                 50                 0  1205.911290   9.782872 2021-02-10   \n",
       "6504                 50                 0  3047.379435  17.427673 2021-02-14   \n",
       "...                 ...               ...          ...        ...        ...   \n",
       "18063                50                 0  3781.098080  19.822962 2021-11-04   \n",
       "18064                50                 0  2840.423057  21.409799 2021-11-16   \n",
       "18065                50                 0  3826.185507  18.435051 2021-11-18   \n",
       "18066                50                 0  2902.308661  16.674362 2021-11-27   \n",
       "18067                50                 0  2371.711192  15.893917 2021-12-29   \n",
       "\n",
       "       month  \n",
       "6500       1  \n",
       "6501       2  \n",
       "6502       2  \n",
       "6503       2  \n",
       "6504       2  \n",
       "...      ...  \n",
       "18063     11  \n",
       "18064     11  \n",
       "18065     11  \n",
       "18066     11  \n",
       "18067     12  \n",
       "\n",
       "[11568 rows x 12 columns]"
      ]
     },
     "execution_count": 22,
     "metadata": {},
     "output_type": "execute_result"
    }
   ],
   "source": [
    "#и создадим фрейм с пользователями, у которых подписка отсутствует\n",
    "without_sub = df_merged[df_merged['subscription_type'] == 'free']\n",
    "without_sub"
   ]
  },
  {
   "cell_type": "markdown",
   "id": "25e296d1",
   "metadata": {},
   "source": [
    "Теперь визуализируем и сравним данные о расстоянии и времени поездок двух групп (с подпиской и без)."
   ]
  },
  {
   "cell_type": "code",
   "execution_count": 23,
   "id": "dffc6ecd",
   "metadata": {},
   "outputs": [
    {
     "data": {
      "image/png": "[encoded data removed]",
      "text/plain": [
       "<Figure size 432x288 with 1 Axes>"
      ]
     },
     "metadata": {
      "needs_background": "light"
     },
     "output_type": "display_data"
    },
    {
     "data": {
      "image/png": "[encoded data removed]",
      "text/plain": [
       "<Figure size 432x288 with 1 Axes>"
      ]
     },
     "metadata": {
      "needs_background": "light"
     },
     "output_type": "display_data"
    },
    {
     "data": {
      "image/png": "[encoded data removed]",
      "text/plain": [
       "<Figure size 432x288 with 1 Axes>"
      ]
     },
     "metadata": {
      "needs_background": "light"
     },
     "output_type": "display_data"
    },
    {
     "data": {
      "image/png": "[encoded data removed]",
      "text/plain": [
       "<Figure size 432x288 with 1 Axes>"
      ]
     },
     "metadata": {
      "needs_background": "light"
     },
     "output_type": "display_data"
    }
   ],
   "source": [
    "#визуализируем данные фрейма с подпиской\n",
    "with_sub.hist(\n",
    "    column = ['duration'],\n",
    "    legend='',\n",
    "    bins = 50\n",
    ")\n",
    "plt.ylabel(\"Частота\")\n",
    "plt.xlabel(\"Время\")\n",
    "plt.title(\"Группа людей с подпиской (время)\")\n",
    "\n",
    "with_sub.hist(\n",
    "    column = ['distance'],\n",
    "    legend='',\n",
    "    bins = 50\n",
    ")\n",
    "plt.ylabel(\"Частота\")\n",
    "plt.xlabel(\"Дистанция\")\n",
    "plt.title(\"Группа людей с подпиской (дистанция)\")\n",
    "\n",
    "without_sub.hist(\n",
    "    column = ['duration'],\n",
    "    legend='',\n",
    "    bins = 50\n",
    ")\n",
    "plt.ylabel(\"Частота\")\n",
    "plt.xlabel(\"Время\")\n",
    "plt.title(\"Группа людей без подписки (время)\")\n",
    "\n",
    "without_sub.hist(\n",
    "    column = ['distance'],\n",
    "    legend='',\n",
    "    bins = 50\n",
    ")\n",
    "plt.ylabel(\"Частота\")\n",
    "plt.xlabel(\"Дистанция\")\n",
    "plt.title(\"Группа людей без подписки (дистанция)\");\n",
    "\n",
    "plt.show()"
   ]
  },
  {
   "cell_type": "markdown",
   "id": "fb029ad0",
   "metadata": {},
   "source": [
    "### **Вывод:**\n",
    "Объеденив данные всех датафреймов в единный, удалось выяснить, что поездок пользователей без подписок больше, чем с подписками.\\\n",
    "\\\n",
    "Наиболее частые промежутки по времени поездки людей с подписками - около 17 минут, без подписки - также около 17 минут.\\\n",
    "Наиболее частые промежутки по растоянию поездки людей с подписками - около 3100 метров, без подписки - 2500 метров. Разница в расстоянии между двумя группами может объясняться тем, что пользователи без подписок могли взять самокат в прокат впервые (на пробу) или пользователи крайне редко пользуются услугами шеринга на преодоления небольших расстояний.\\\n",
    "\\\n",
    "Стоит отметить, что на графиках расстояния присутствуют \"бугры\". Можно предположить, что это с поломкой или недостаточностью заряда самоката. Также в случае с пользователями без подписок есть вариант испытательного заезда (узнать в общем и целом как работает самокат).\\\n",
    "\\\n",
    "У группы людей с подпиской и без есть различия во временных графиках, а именно на графике пользователей без подписки имеется выброс в 0.5 минут. Имеется предположение, что это сбой системы, так как в предобработке мы выяснили, что данный временной промежуток не соответствует пройденному расстоянию. "
   ]
  },
  {
   "cell_type": "markdown",
   "id": "402d620f",
   "metadata": {},
   "source": [
    "### Шаг 5. Подсчёт выручки"
   ]
  },
  {
   "cell_type": "markdown",
   "id": "14253742",
   "metadata": {},
   "source": [
    "#### 5.1. Создадим датафрейм с агрегированными данными о поездах."
   ]
  },
  {
   "cell_type": "code",
   "execution_count": 24,
   "id": "0200beb8",
   "metadata": {},
   "outputs": [
    {
     "data": {
      "text/plain": [
       "0    26.0\n",
       "1    16.0\n",
       "2     7.0\n",
       "3    19.0\n",
       "4    27.0\n",
       "Name: duration, dtype: float64"
      ]
     },
     "execution_count": 24,
     "metadata": {},
     "output_type": "execute_result"
    }
   ],
   "source": [
    "#для подсчёта выручки необходимо округлить время до создания сводной таблицы\n",
    "df_merged['duration'] = np.ceil(df_merged['duration'])\n",
    "df_merged['duration'].head()"
   ]
  },
  {
   "cell_type": "code",
   "execution_count": 25,
   "id": "b43c4865",
   "metadata": {},
   "outputs": [
    {
     "data": {
      "text/html": [
       "<div>\n",
       "<style scoped>\n",
       "    .dataframe tbody tr th:only-of-type {\n",
       "        vertical-align: middle;\n",
       "    }\n",
       "\n",
       "    .dataframe tbody tr th {\n",
       "        vertical-align: top;\n",
       "    }\n",
       "\n",
       "    .dataframe thead th {\n",
       "        text-align: right;\n",
       "    }\n",
       "</style>\n",
       "<table border=\"1\" class=\"dataframe\">\n",
       "  <thead>\n",
       "    <tr style=\"text-align: right;\">\n",
       "      <th></th>\n",
       "      <th></th>\n",
       "      <th>distance</th>\n",
       "      <th>duration</th>\n",
       "      <th>minute_price</th>\n",
       "      <th>rides_count</th>\n",
       "      <th>start_ride_price</th>\n",
       "      <th>subscription_fee</th>\n",
       "      <th>subscription_type</th>\n",
       "    </tr>\n",
       "    <tr>\n",
       "      <th>user_id</th>\n",
       "      <th>month</th>\n",
       "      <th></th>\n",
       "      <th></th>\n",
       "      <th></th>\n",
       "      <th></th>\n",
       "      <th></th>\n",
       "      <th></th>\n",
       "      <th></th>\n",
       "    </tr>\n",
       "  </thead>\n",
       "  <tbody>\n",
       "    <tr>\n",
       "      <th rowspan=\"5\" valign=\"top\">1</th>\n",
       "      <th>1</th>\n",
       "      <td>7027.511294</td>\n",
       "      <td>42.0</td>\n",
       "      <td>6</td>\n",
       "      <td>2</td>\n",
       "      <td>0</td>\n",
       "      <td>199</td>\n",
       "      <td>ultra</td>\n",
       "    </tr>\n",
       "    <tr>\n",
       "      <th>4</th>\n",
       "      <td>754.159807</td>\n",
       "      <td>7.0</td>\n",
       "      <td>6</td>\n",
       "      <td>1</td>\n",
       "      <td>0</td>\n",
       "      <td>199</td>\n",
       "      <td>ultra</td>\n",
       "    </tr>\n",
       "    <tr>\n",
       "      <th>8</th>\n",
       "      <td>6723.470560</td>\n",
       "      <td>46.0</td>\n",
       "      <td>6</td>\n",
       "      <td>2</td>\n",
       "      <td>0</td>\n",
       "      <td>199</td>\n",
       "      <td>ultra</td>\n",
       "    </tr>\n",
       "    <tr>\n",
       "      <th>10</th>\n",
       "      <td>5809.911100</td>\n",
       "      <td>32.0</td>\n",
       "      <td>6</td>\n",
       "      <td>2</td>\n",
       "      <td>0</td>\n",
       "      <td>199</td>\n",
       "      <td>ultra</td>\n",
       "    </tr>\n",
       "    <tr>\n",
       "      <th>11</th>\n",
       "      <td>7003.499363</td>\n",
       "      <td>56.0</td>\n",
       "      <td>6</td>\n",
       "      <td>3</td>\n",
       "      <td>0</td>\n",
       "      <td>199</td>\n",
       "      <td>ultra</td>\n",
       "    </tr>\n",
       "    <tr>\n",
       "      <th>...</th>\n",
       "      <th>...</th>\n",
       "      <td>...</td>\n",
       "      <td>...</td>\n",
       "      <td>...</td>\n",
       "      <td>...</td>\n",
       "      <td>...</td>\n",
       "      <td>...</td>\n",
       "      <td>...</td>\n",
       "    </tr>\n",
       "    <tr>\n",
       "      <th rowspan=\"5\" valign=\"top\">1534</th>\n",
       "      <th>6</th>\n",
       "      <td>3409.468534</td>\n",
       "      <td>26.0</td>\n",
       "      <td>8</td>\n",
       "      <td>2</td>\n",
       "      <td>50</td>\n",
       "      <td>0</td>\n",
       "      <td>free</td>\n",
       "    </tr>\n",
       "    <tr>\n",
       "      <th>8</th>\n",
       "      <td>7622.453034</td>\n",
       "      <td>48.0</td>\n",
       "      <td>8</td>\n",
       "      <td>2</td>\n",
       "      <td>50</td>\n",
       "      <td>0</td>\n",
       "      <td>free</td>\n",
       "    </tr>\n",
       "    <tr>\n",
       "      <th>9</th>\n",
       "      <td>4928.173852</td>\n",
       "      <td>23.0</td>\n",
       "      <td>8</td>\n",
       "      <td>1</td>\n",
       "      <td>50</td>\n",
       "      <td>0</td>\n",
       "      <td>free</td>\n",
       "    </tr>\n",
       "    <tr>\n",
       "      <th>11</th>\n",
       "      <td>13350.015305</td>\n",
       "      <td>78.0</td>\n",
       "      <td>8</td>\n",
       "      <td>4</td>\n",
       "      <td>50</td>\n",
       "      <td>0</td>\n",
       "      <td>free</td>\n",
       "    </tr>\n",
       "    <tr>\n",
       "      <th>12</th>\n",
       "      <td>2371.711192</td>\n",
       "      <td>16.0</td>\n",
       "      <td>8</td>\n",
       "      <td>1</td>\n",
       "      <td>50</td>\n",
       "      <td>0</td>\n",
       "      <td>free</td>\n",
       "    </tr>\n",
       "  </tbody>\n",
       "</table>\n",
       "<p>11331 rows × 7 columns</p>\n",
       "</div>"
      ],
      "text/plain": [
       "                   distance  duration  minute_price  rides_count  \\\n",
       "user_id month                                                      \n",
       "1       1       7027.511294      42.0             6            2   \n",
       "        4        754.159807       7.0             6            1   \n",
       "        8       6723.470560      46.0             6            2   \n",
       "        10      5809.911100      32.0             6            2   \n",
       "        11      7003.499363      56.0             6            3   \n",
       "...                     ...       ...           ...          ...   \n",
       "1534    6       3409.468534      26.0             8            2   \n",
       "        8       7622.453034      48.0             8            2   \n",
       "        9       4928.173852      23.0             8            1   \n",
       "        11     13350.015305      78.0             8            4   \n",
       "        12      2371.711192      16.0             8            1   \n",
       "\n",
       "               start_ride_price  subscription_fee subscription_type  \n",
       "user_id month                                                        \n",
       "1       1                     0               199             ultra  \n",
       "        4                     0               199             ultra  \n",
       "        8                     0               199             ultra  \n",
       "        10                    0               199             ultra  \n",
       "        11                    0               199             ultra  \n",
       "...                         ...               ...               ...  \n",
       "1534    6                    50                 0              free  \n",
       "        8                    50                 0              free  \n",
       "        9                    50                 0              free  \n",
       "        11                   50                 0              free  \n",
       "        12                   50                 0              free  \n",
       "\n",
       "[11331 rows x 7 columns]"
      ]
     },
     "execution_count": 25,
     "metadata": {},
     "output_type": "execute_result"
    }
   ],
   "source": [
    "#через функцию pivot_table агрегируем данные о длительности и дальности поездок,\n",
    "#и их кол-ве о каждом пользователе за каждый месяц\n",
    "#для дальнейших вычислений выручки добавим столбецы с типом подписки, стоимости поездки в минуту и стоимость начала поездки\n",
    "sum_table = df_merged.pivot_table(\n",
    "    index=['user_id','month'],\n",
    "    values=['distance','name','duration','subscription_fee','minute_price','start_ride_price','subscription_type'],\n",
    "    aggfunc={'distance': 'sum',\n",
    "             'name':'count',\n",
    "             'duration':'sum',\n",
    "             'subscription_fee':'first',\n",
    "             'minute_price':'first',\n",
    "             'start_ride_price':'first',\n",
    "             'subscription_type':'first'\n",
    "            }\n",
    ")\n",
    "sum_table.rename(columns={'name':'rides_count'},inplace = True)\n",
    "sum_table"
   ]
  },
  {
   "cell_type": "markdown",
   "id": "030f864c",
   "metadata": {},
   "source": [
    "#### 5.2. Посчитаем выручку с каждого пользователя (с подпиской и без неё)"
   ]
  },
  {
   "cell_type": "code",
   "execution_count": 26,
   "id": "223730a4",
   "metadata": {},
   "outputs": [
    {
     "data": {
      "text/plain": [
       "distance             0\n",
       "duration             0\n",
       "minute_price         0\n",
       "rides_count          0\n",
       "start_ride_price     0\n",
       "subscription_fee     0\n",
       "subscription_type    0\n",
       "dtype: int64"
      ]
     },
     "execution_count": 26,
     "metadata": {},
     "output_type": "execute_result"
    }
   ],
   "source": [
    "#проверим данные на пропуски перед расчётом выручки\n",
    "sum_table.isna().sum()\n",
    "#пропуски не обнаружены, поэтому можно смело перейти к вычислениям"
   ]
  },
  {
   "cell_type": "code",
   "execution_count": 27,
   "id": "6bd4e145",
   "metadata": {},
   "outputs": [
    {
     "data": {
      "text/html": [
       "<div>\n",
       "<style scoped>\n",
       "    .dataframe tbody tr th:only-of-type {\n",
       "        vertical-align: middle;\n",
       "    }\n",
       "\n",
       "    .dataframe tbody tr th {\n",
       "        vertical-align: top;\n",
       "    }\n",
       "\n",
       "    .dataframe thead th {\n",
       "        text-align: right;\n",
       "    }\n",
       "</style>\n",
       "<table border=\"1\" class=\"dataframe\">\n",
       "  <thead>\n",
       "    <tr style=\"text-align: right;\">\n",
       "      <th></th>\n",
       "      <th></th>\n",
       "      <th>distance</th>\n",
       "      <th>duration</th>\n",
       "      <th>minute_price</th>\n",
       "      <th>rides_count</th>\n",
       "      <th>start_ride_price</th>\n",
       "      <th>subscription_fee</th>\n",
       "      <th>subscription_type</th>\n",
       "      <th>income</th>\n",
       "    </tr>\n",
       "    <tr>\n",
       "      <th>user_id</th>\n",
       "      <th>month</th>\n",
       "      <th></th>\n",
       "      <th></th>\n",
       "      <th></th>\n",
       "      <th></th>\n",
       "      <th></th>\n",
       "      <th></th>\n",
       "      <th></th>\n",
       "      <th></th>\n",
       "    </tr>\n",
       "  </thead>\n",
       "  <tbody>\n",
       "    <tr>\n",
       "      <th rowspan=\"5\" valign=\"top\">1</th>\n",
       "      <th>1</th>\n",
       "      <td>7027.511294</td>\n",
       "      <td>42.0</td>\n",
       "      <td>6</td>\n",
       "      <td>2</td>\n",
       "      <td>0</td>\n",
       "      <td>199</td>\n",
       "      <td>ultra</td>\n",
       "      <td>451.0</td>\n",
       "    </tr>\n",
       "    <tr>\n",
       "      <th>4</th>\n",
       "      <td>754.159807</td>\n",
       "      <td>7.0</td>\n",
       "      <td>6</td>\n",
       "      <td>1</td>\n",
       "      <td>0</td>\n",
       "      <td>199</td>\n",
       "      <td>ultra</td>\n",
       "      <td>241.0</td>\n",
       "    </tr>\n",
       "    <tr>\n",
       "      <th>8</th>\n",
       "      <td>6723.470560</td>\n",
       "      <td>46.0</td>\n",
       "      <td>6</td>\n",
       "      <td>2</td>\n",
       "      <td>0</td>\n",
       "      <td>199</td>\n",
       "      <td>ultra</td>\n",
       "      <td>475.0</td>\n",
       "    </tr>\n",
       "    <tr>\n",
       "      <th>10</th>\n",
       "      <td>5809.911100</td>\n",
       "      <td>32.0</td>\n",
       "      <td>6</td>\n",
       "      <td>2</td>\n",
       "      <td>0</td>\n",
       "      <td>199</td>\n",
       "      <td>ultra</td>\n",
       "      <td>391.0</td>\n",
       "    </tr>\n",
       "    <tr>\n",
       "      <th>11</th>\n",
       "      <td>7003.499363</td>\n",
       "      <td>56.0</td>\n",
       "      <td>6</td>\n",
       "      <td>3</td>\n",
       "      <td>0</td>\n",
       "      <td>199</td>\n",
       "      <td>ultra</td>\n",
       "      <td>535.0</td>\n",
       "    </tr>\n",
       "    <tr>\n",
       "      <th>...</th>\n",
       "      <th>...</th>\n",
       "      <td>...</td>\n",
       "      <td>...</td>\n",
       "      <td>...</td>\n",
       "      <td>...</td>\n",
       "      <td>...</td>\n",
       "      <td>...</td>\n",
       "      <td>...</td>\n",
       "      <td>...</td>\n",
       "    </tr>\n",
       "    <tr>\n",
       "      <th rowspan=\"5\" valign=\"top\">1534</th>\n",
       "      <th>6</th>\n",
       "      <td>3409.468534</td>\n",
       "      <td>26.0</td>\n",
       "      <td>8</td>\n",
       "      <td>2</td>\n",
       "      <td>50</td>\n",
       "      <td>0</td>\n",
       "      <td>free</td>\n",
       "      <td>308.0</td>\n",
       "    </tr>\n",
       "    <tr>\n",
       "      <th>8</th>\n",
       "      <td>7622.453034</td>\n",
       "      <td>48.0</td>\n",
       "      <td>8</td>\n",
       "      <td>2</td>\n",
       "      <td>50</td>\n",
       "      <td>0</td>\n",
       "      <td>free</td>\n",
       "      <td>484.0</td>\n",
       "    </tr>\n",
       "    <tr>\n",
       "      <th>9</th>\n",
       "      <td>4928.173852</td>\n",
       "      <td>23.0</td>\n",
       "      <td>8</td>\n",
       "      <td>1</td>\n",
       "      <td>50</td>\n",
       "      <td>0</td>\n",
       "      <td>free</td>\n",
       "      <td>234.0</td>\n",
       "    </tr>\n",
       "    <tr>\n",
       "      <th>11</th>\n",
       "      <td>13350.015305</td>\n",
       "      <td>78.0</td>\n",
       "      <td>8</td>\n",
       "      <td>4</td>\n",
       "      <td>50</td>\n",
       "      <td>0</td>\n",
       "      <td>free</td>\n",
       "      <td>824.0</td>\n",
       "    </tr>\n",
       "    <tr>\n",
       "      <th>12</th>\n",
       "      <td>2371.711192</td>\n",
       "      <td>16.0</td>\n",
       "      <td>8</td>\n",
       "      <td>1</td>\n",
       "      <td>50</td>\n",
       "      <td>0</td>\n",
       "      <td>free</td>\n",
       "      <td>178.0</td>\n",
       "    </tr>\n",
       "  </tbody>\n",
       "</table>\n",
       "<p>11331 rows × 8 columns</p>\n",
       "</div>"
      ],
      "text/plain": [
       "                   distance  duration  minute_price  rides_count  \\\n",
       "user_id month                                                      \n",
       "1       1       7027.511294      42.0             6            2   \n",
       "        4        754.159807       7.0             6            1   \n",
       "        8       6723.470560      46.0             6            2   \n",
       "        10      5809.911100      32.0             6            2   \n",
       "        11      7003.499363      56.0             6            3   \n",
       "...                     ...       ...           ...          ...   \n",
       "1534    6       3409.468534      26.0             8            2   \n",
       "        8       7622.453034      48.0             8            2   \n",
       "        9       4928.173852      23.0             8            1   \n",
       "        11     13350.015305      78.0             8            4   \n",
       "        12      2371.711192      16.0             8            1   \n",
       "\n",
       "               start_ride_price  subscription_fee subscription_type  income  \n",
       "user_id month                                                                \n",
       "1       1                     0               199             ultra   451.0  \n",
       "        4                     0               199             ultra   241.0  \n",
       "        8                     0               199             ultra   475.0  \n",
       "        10                    0               199             ultra   391.0  \n",
       "        11                    0               199             ultra   535.0  \n",
       "...                         ...               ...               ...     ...  \n",
       "1534    6                    50                 0              free   308.0  \n",
       "        8                    50                 0              free   484.0  \n",
       "        9                    50                 0              free   234.0  \n",
       "        11                   50                 0              free   824.0  \n",
       "        12                   50                 0              free   178.0  \n",
       "\n",
       "[11331 rows x 8 columns]"
      ]
     },
     "execution_count": 27,
     "metadata": {},
     "output_type": "execute_result"
    }
   ],
   "source": [
    "import numpy as np\n",
    "# каждое значение из столбца duration округляется с помощью «потолка»: \n",
    "sum_table['income'] =\\\n",
    "(sum_table['duration']*sum_table['minute_price'])+(sum_table['start_ride_price']*sum_table['rides_count'])+sum_table['subscription_fee']\n",
    "sum_table"
   ]
  },
  {
   "cell_type": "markdown",
   "id": "821c5729",
   "metadata": {},
   "source": [
    "### **Вывод:** \n",
    "На данном этапе была созданна таблица с агрегированными данными и на основе этих данных посчитана выручка 2 групп людей - с подпиской и без подписки.\\\n",
    "На первый взгляд не скажешь какая группа приносит больше прибыли, так как играет фактор количества поездок в месяц. Рассмотрим в следующем пунке, проверке гипотез, какая группа приносит бизнесу больше выручки."
   ]
  },
  {
   "cell_type": "markdown",
   "id": "41545ac0",
   "metadata": {},
   "source": [
    "### Шаг 6. Проверка гипотез"
   ]
  },
  {
   "cell_type": "markdown",
   "id": "bb800c6f",
   "metadata": {},
   "source": [
    "#### Гипотеза №1. Тратят ли пользователи с подпиской больше времени на поездки?"
   ]
  },
  {
   "cell_type": "markdown",
   "id": "593f9057",
   "metadata": {},
   "source": [
    "Составим текстовый формат гипотезы:\\\n",
    "H0: пользователи с подпиской тратят столько же времени на поездки, что и пользователи без подписки\\\n",
    "H1: пользователи с подпиской тратят **больше** времени на поездки, чем пользователи без подписки (бизнес заинтересован в том, чтобы пользователи с подпиской приносили больше прибыли)\\\n",
    "\\\n",
    "H0: μ1 = μ2\\\n",
    "H1: μ1 >= μ2"
   ]
  },
  {
   "cell_type": "code",
   "execution_count": 28,
   "id": "c0e21bf6",
   "metadata": {},
   "outputs": [
    {
     "name": "stdout",
     "output_type": "stream",
     "text": [
      "p-значение: 1.2804098316645618e-34\n",
      "Отвергаем нулевую гипотезу\n"
     ]
    }
   ],
   "source": [
    "#используем исходные данные о продолжительности каждой сессии — отдельно для подписчиков и тех, у кого нет подписки.\n",
    "from scipy import stats as st\n",
    "import numpy as np\n",
    "import pandas as pd\n",
    "\n",
    "alpha = .05 # уровень статистической значимости\n",
    "\n",
    "hypothesis_one = st.ttest_ind(with_sub['duration'], without_sub['duration'], alternative='greater')\n",
    "print('p-значение:', hypothesis_one.pvalue)\n",
    "\n",
    "if hypothesis_one.pvalue < alpha:\n",
    "    print('Отвергаем нулевую гипотезу')\n",
    "else: \n",
    "    print('Не получилось отвергнуть нулевую гипотезу')"
   ]
  },
  {
   "cell_type": "markdown",
   "id": "80df2a89",
   "metadata": {},
   "source": [
    "#### Вывод по гипотезе №1. \n",
    "P-value больше alpha и ttest показал, что мы отвергаем нулевую гипотезу. Соответсвенно, можно сделать вывод, что пользователи с подпиской «выгоднее» для компании, так как затрачивают больше времени на поездку."
   ]
  },
  {
   "cell_type": "markdown",
   "id": "868622dd",
   "metadata": {},
   "source": [
    "#### Гипотеза №2. Можно ли сказать, что среднее расстояние, которое проезжают пользователи с подпиской за одну поездку, не превышает 3130 метров? "
   ]
  },
  {
   "cell_type": "markdown",
   "id": "08978969",
   "metadata": {},
   "source": [
    "Так как для бизнеса важно, чтобы не первышалось пороговое значение - 3130 метров, то необходимо использовать односторонний тест. Это значит, что можно проверить данную гипотезу при помощи функции st.ttest_1samp() и указать параметр 'greater'. Массивом данных будет выборка людей с подпиской, интересующее нас расстояние - 3130 метров. Общепринятное пороговое значение - 5%."
   ]
  },
  {
   "cell_type": "markdown",
   "id": "f4174f26",
   "metadata": {},
   "source": [
    "Составим текстовый формат гипотезы:\\\n",
    "H0: растояние, преодоленное пользователем с подпиской не превышает 3130 метров\\\n",
    "H1: растояние, преодоленное пользователем с подпиской превышает 3130 метров\\\n",
    "\\\n",
    "H0: μ1 = μ2\\\n",
    "H1: μ1 > μ2"
   ]
  },
  {
   "cell_type": "code",
   "execution_count": 29,
   "id": "9f4ea17b",
   "metadata": {},
   "outputs": [
    {
     "name": "stdout",
     "output_type": "stream",
     "text": [
      "p-значение: 0.9195368847849785\n",
      "Не получилось отвергнуть нулевую гипотезу\n"
     ]
    }
   ],
   "source": [
    "from scipy import stats as st\n",
    "\n",
    "interested_value_first = 3130 #предполагаемое среднее расстояние\n",
    "alpha = 0.05 # уровень статистической значимости\n",
    "hypothesis_two = st.ttest_1samp(\n",
    "    with_sub['distance'], \n",
    "    interested_value_first,\n",
    "    alternative = 'greater'\n",
    ")\n",
    "print('p-значение:', hypothesis_two.pvalue)\n",
    "\n",
    "if hypothesis_two.pvalue < alpha:\n",
    "    print('Отвергаем нулевую гипотезу')\n",
    "else:\n",
    "    print('Не получилось отвергнуть нулевую гипотезу')"
   ]
  },
  {
   "cell_type": "markdown",
   "id": "e86fcb36",
   "metadata": {},
   "source": [
    "#### Вывод по гипотезе №2.\n",
    "Гипотезу не удалось отвергнуть. Следовательно, можно сказать, что среднее расстояние которое проезжают пользователи с подпиской за 1 поездку, не превышает 3130 метров. Соответственно, пороговое значение не превышается - затрат на содержание и ремонт самокатов меньше."
   ]
  },
  {
   "cell_type": "markdown",
   "id": "4c5c672b",
   "metadata": {},
   "source": [
    "#### Гипотеза №3. Будет ли помесячная выручка от пользователей с подпиской по месяцам выше, чем выручка от пользователей без подписки?"
   ]
  },
  {
   "cell_type": "markdown",
   "id": "8e56a9a4",
   "metadata": {},
   "source": [
    "Составим текстовый формат гипотезы:\\\n",
    "H0: выручка с пользователей с подпиской не превышает выручки с пользователей без подписки\\\n",
    "H1: выручка с пользователей с подпиской больше, чем с пользователей без подписки\\\n",
    "\\\n",
    "H0: μ1 = μ2\\\n",
    "H1: μ1 > μ2"
   ]
  },
  {
   "cell_type": "code",
   "execution_count": 30,
   "id": "47beec79",
   "metadata": {},
   "outputs": [
    {
     "name": "stdout",
     "output_type": "stream",
     "text": [
      "p-значение: 1.9208280554554962e-17\n",
      "Отвергаем нулевую гипотезу\n"
     ]
    }
   ],
   "source": [
    "#используем односторонний тест для проверки гипотезы\n",
    "#за массивы будут приниматься сводные таблице, сформированные выше\n",
    "alpha=0.05\n",
    "hypothesis_three = st.ttest_ind(sum_table.loc[sum_table['subscription_type'] == 'ultra']['income'], sum_table['income'], alternative='greater')\n",
    "print('p-значение:', hypothesis_three.pvalue)\n",
    "\n",
    "if hypothesis_three.pvalue < alpha:\n",
    "    print('Отвергаем нулевую гипотезу')\n",
    "else:\n",
    "    print('Не получилось отвергнуть нулевую гипотезу')"
   ]
  },
  {
   "cell_type": "markdown",
   "id": "ed43816b",
   "metadata": {},
   "source": [
    "#### Вывод по гипотезе №3. Гипотезу не удалось отвергнуть\n",
    "Проведя одностороннее тестирование гипотезы, p-value больше уровня значимости, что позволяет отвергнуть гипотезу.\\\n",
    "Следовательно, группа с подписками приносит больше выручки компании GoFast и им стоит задуматься о привлечении \"подписчиков\"."
   ]
  },
  {
   "cell_type": "markdown",
   "id": "0274808d",
   "metadata": {},
   "source": [
    "#### Гипотеза №4. Некоторый файл содержит для каждого пользователя данные о количестве обращений до обновления и после него. Какой тест вам понадобился бы для проверки этой гипотезы?"
   ]
  },
  {
   "cell_type": "markdown",
   "id": "d4288bf0",
   "metadata": {},
   "source": [
    "Проверяется гипотеза о том, что техническая команда сервиса обновила сервера, с которыми взаимодействует мобильное приложение. Команда надеется, что из-за этого количество обращений в техподдержку значимо снизилось после проведенных действий. В данной ситуации также используем ttest, а именно функцию scipy.stats.ttest_rel().\\\n",
    "\\\n",
    "В данном случае рассматривается ситуация, что количество обращений в техподдержку должно снизиться. Следовательно, это односторонняя гипотеза и мы будем указывать альтернативный параметр 'less'.\\\n",
    "\\\n",
    "Следующим шагом определить правильное рассположение массивов. По логике кода массивы могут располагаться: before>after и указать 'greater', либо after<before с параметром 'less'. Оба варианта правильные, но так как мы решили использовать аргумент 'less', то будем массив after указывать 1-м, а массив before, соответственно, 2-м.\\\n",
    "\\\n",
    "Получилась следующая строка кода:\\\n",
    "**scipy.stats.ttest_rel(after, before, alternative = 'less')**"
   ]
  },
  {
   "cell_type": "markdown",
   "id": "66ddd159",
   "metadata": {},
   "source": [
    "#### Вывод по гипотезе №4. \n",
    "Если бы в условии проекта стояла задача проанализировать снижение обращений в техподдержку после обновления сервиса, то мы бы использовали ttest о равенстве сравнения генеральной совокупности до и после изменения. Использовали бы следующую строку scipy.stats.ttest_rel(after, before, alternative = 'less')."
   ]
  },
  {
   "cell_type": "markdown",
   "id": "64671acd",
   "metadata": {},
   "source": [
    "# Общий вывод"
   ]
  },
  {
   "cell_type": "markdown",
   "id": "ad5cd4c9",
   "metadata": {},
   "source": [
    "Была проведена аналитика данных популярного сервиса аренды самокатов GoFast. Чтобы совершать поездки по городу, пользователи сервиса GoFast пользуются мобильным приложением. Были предложены данные о некоторых пользователях из нескольких городов, а также об их поездках.\\\n",
    "\\\n",
    "Данные содержались в 3-х файлах, которые были были безошибочно открыты. В первом файле содержатся данные о пользователях (имя, возраст, город, наличие или отсутствие подписки). Второй файл содержится данные о дистанции поездок пользователей, длительности поездок и даты поездок. И в третьем файле содержатся данные о подписках - стоимости старта, стоимости подписки в месяц и стоимости минуты поездки.\\\n",
    "\\\n",
    "В предобработке данных были проведены следующие виды работы:\n",
    "* Замена типа данных столбца 'data' на тип данных pandas\n",
    "* Удаление неявных дубликатов (выявлено 31)\n",
    "* Удалено 95 поездок с большой дистанцией с коротким временным промежутком\\\n",
    "\\\n",
    "Также был создан столбец с месяцем поездки для дальнеших вычислений.\\\n",
    "\\\n",
    "В исследовательском анализе были визуализированы данные при помощи графиков.\n",
    "1) Частота встречаемости городов\\\n",
    "Наименее встречающийся город - Москва\\\n",
    "Наибольшее кол-во встречаемости в городе Пятигорск\\\n",
    "2) Соотношение пользователей с подпиской и без неё\\\n",
    "Пользователей без подписки оказалось больше, чем с подпиской\\\n",
    "3) Возраст пользователей\\\n",
    "Чаще всего пользуется услугами компании молодёж. Средний диапазон пользователей - 21-28 лет. Замечание к данным: странно, что дети (младше 18) могут пользоваться услугами компании\\\n",
    "4) Расстояние за 1 поездку\\\n",
    "Чаще всего люди преодолевают расстояние в 3000-3100 метров, наименьшее кол-во поездок на большие расстояния (+5000 метров)\\\n",
    "5) Продолжительность поездок\\\n",
    "Пик времени составил - 17-18 минут. Много людей берут самокаты на 15-20 минут. Что в случае с дистанцией, что с временем - много ресурсов не затраичается на поездки\\\n",
    "\\\n",
    "Следующий шагом необходимо было создать сводные таблицы. Условия были отсортировать людей на 2 группы: с подпиской и без подписки. Объеденив данные всех датафреймов в единный, удалось выяснить, что поездок пользователей без подписок больше, чем с подписками. Стоит отметить, что на графиках расстояния присутствуют \"бугры\". Можно предположить, что это с поломкой или недостаточностью заряда самоката. Также в случае с пользователями без подписок есть вариант испытательного заезда (узнать в общем и целом как работает самокат).\\\n",
    "\\\n",
    "Используя созданные датафреймы по подпискам, использовались данные для расчёта выручки. После агрегирования данных о поездках пользователей по месяцам и индетификатору пользователей, был произведен расчёт выручки. Важно отметить, что время было округлено в большую сторону (например, если выручка с человека получалась 450.3 или 450.6, то данные округлялись до 451 руб.).\\\n",
    "\\\n",
    "Заключительный этап в проекте - проверка гипотез.\n",
    "* **Гипотеза 1.** Тратят ли пользователи с подпиской больше времени на поездки? **Ответ:** Да, при проведении одностороннего ttest-а удалось выявить, что пользователи с подпиской тратят больше времени на поездку, чем пользователи без подписки. Значит для бизнеса пользователь с подпиской может быть выгоднее.\n",
    "* **Гипотеза 2.** Можно ли сказать, что среднее расстояние, которое проезжают пользователи с подпиской за одну поездку, не превышает 3130 метров? **Ответ:** Гипотезу не удалось отвергнуть. Следовательно, можно сказать, что среднее расстояние которое проезжают пользователи с подпиской за 1 поездку, не превышает 3130 метров.\n",
    "* **Гипотеза 3.** Будет ли помесячная выручка от пользователей с подпиской по месяцам выше, чем выручка от пользователей без подписки? **Ответ:** Да, группа с подписками приносит больше выручки GoFast и компании стоит повысить заинтересованность потребителя в подписках.\n",
    "* **Гипотеза 4.** Какой тест вам понадобился бы для проверки гипотезы \"техническая команда сервиса обновила сервера, с которыми взаимодействует мобильное приложение. Она надеется, что из-за этого количество обращений в техподдержку значимо снизилось\"? **Ответ:** Ttest о равенстве сравнения генеральной совокупности до и после изменения. Использовали бы следующую строку scipy.stats.ttest_rel(after, before, alternative = 'less') или scipy.stats.ttest_rel(before, after, alternative = 'greater').\\\n",
    "\\\n",
    "Подводя итог к вопросу \"выгодны ли для компании пользователи с подпиской\", можно утверждать, что да. Те, кто оформил платную подписку, затрачивают больше времени на поездки и приносят больше выручки по месяцам для компании, насмотря на то, что пользователей с подпиской почти в 2 раза меньше, чем пользователей без подписки.\\\n",
    "\\\n",
    "Заметки для проекта (несомненно возникают вопросы при изучении данных):\n",
    "* Протеворечивые данные о поездках. За 0.5 минуты было преодалено расстояние ~4000 метров, при этом такого рода поездки приносят выручку компании. Вопрос: что делать с такого рода аномальными значениями?\n",
    "* Была мысль, что по закону запрещается детям до 18 пользоваться электросамокатами, но увидел, что с 4 апреля 2023 года вступил в силу новых закон о разрешении самостоятельной езде с 14 лет, но все же есть дети младше 14 лет (не хочу быть душным, просто выделяю факты :)).\n",
    "* Также показалось странным, что самокаты доступны круглый год, хотя в период зимы и до середины весны, примерно, они не доступны для использования."
   ]
  },
  {
   "cell_type": "markdown",
   "id": "178950f2",
   "metadata": {},
   "source": [
    "- [x]  открыт 3 файла\n",
    "- [x]  файлы изучены (выведены первые строки, метод `info()` и т.д.)\n",
    "- [x]  столбец date приведен к типу данных pandas\n",
    "- [x]  cоздаy новый столбец с номером месяца на основе столбца date.\n",
    "- [x]  заполнены пропущенные значения там, где это возможно\n",
    "- [x]  есть пояснение, какие пропущенные значения обнаружены\n",
    "- [x]  устранены дубликаты\n",
    "- [x]  описана и визуализирована информация о пользователях и поздках:\n",
    "        - частота встречаемости городов;\n",
    "        - соотношение пользователей с подпиской и без подписки;\n",
    "        - возраст пользователей;\n",
    "        - расстояние, которое пользователь преодолел за одну поездку;\n",
    "        - продолжительность поездок\n",
    "- [x]  объединены данные о пользователях, поездках и подписках в один датафрейм методом merge().\n",
    "- [x]  было создано 2 датафрейма:\n",
    "       - c данными о пользователях без подписки;\n",
    "       - с данными о пользователях с подпиской\n",
    "- [x]  Визуализирована информация о расстоянии и времени поездок для пользователей обеих категорий.\n",
    "- [x]  создан датафрейм с агрегированными данными о поездках на основе датафрейма с объединёнными данными из шага 4. \n",
    "- [x]  найдено:\n",
    "       - суммарное расстояние;\n",
    "       - количество поездок;\n",
    "       - суммарное время для каждого пользователя за каждый месяц\n",
    "- [x]  в этот же датафрейм добавлен столбец с помесячной выручкой, которую принёс каждый пользователь (обратиться к информации об условиях оплаты для подписчиков и тех, у кого нет подписки)\n",
    "- [x] проверены 4 представленных гипотезы и сделаны выводы по ним\n",
    "- [x]  есть общий вывод"
   ]
  }
 ],
 "metadata": {
  "ExecuteTimeLog": [
   {
    "duration": 1867,
    "start_time": "2023-09-15T20:17:58.797Z"
   },
   {
    "duration": 36,
    "start_time": "2023-09-15T20:18:00.667Z"
   },
   {
    "duration": 8,
    "start_time": "2023-09-15T20:18:00.705Z"
   },
   {
    "duration": 29,
    "start_time": "2023-09-15T20:18:00.715Z"
   },
   {
    "duration": 27,
    "start_time": "2023-09-15T20:18:00.746Z"
   },
   {
    "duration": 16,
    "start_time": "2023-09-15T20:18:00.775Z"
   },
   {
    "duration": 16,
    "start_time": "2023-09-15T20:18:00.811Z"
   },
   {
    "duration": 16,
    "start_time": "2023-09-15T20:18:00.829Z"
   },
   {
    "duration": 31,
    "start_time": "2023-09-15T20:18:00.848Z"
   },
   {
    "duration": 31,
    "start_time": "2023-09-15T20:18:00.883Z"
   },
   {
    "duration": 34,
    "start_time": "2023-09-15T20:18:00.917Z"
   },
   {
    "duration": 209,
    "start_time": "2023-09-15T20:18:00.954Z"
   },
   {
    "duration": 147,
    "start_time": "2023-09-15T20:18:01.165Z"
   },
   {
    "duration": 286,
    "start_time": "2023-09-15T20:18:01.314Z"
   },
   {
    "duration": 238,
    "start_time": "2023-09-15T20:18:01.603Z"
   },
   {
    "duration": 248,
    "start_time": "2023-09-15T20:18:01.843Z"
   },
   {
    "duration": 60,
    "start_time": "2023-09-15T20:18:02.093Z"
   },
   {
    "duration": 37,
    "start_time": "2023-09-15T20:18:02.155Z"
   },
   {
    "duration": 31,
    "start_time": "2023-09-15T20:18:02.195Z"
   },
   {
    "duration": 686,
    "start_time": "2023-09-15T20:18:02.228Z"
   },
   {
    "duration": 564,
    "start_time": "2023-09-15T20:18:02.916Z"
   },
   {
    "duration": 197,
    "start_time": "2023-09-15T20:18:03.483Z"
   },
   {
    "duration": 46,
    "start_time": "2023-09-15T20:18:03.682Z"
   },
   {
    "duration": 617,
    "start_time": "2023-09-15T20:18:03.731Z"
   },
   {
    "duration": 6,
    "start_time": "2023-09-15T20:18:04.351Z"
   },
   {
    "duration": 63,
    "start_time": "2023-09-15T20:18:04.359Z"
   },
   {
    "duration": 7,
    "start_time": "2023-09-15T20:18:04.424Z"
   },
   {
    "duration": 1395,
    "start_time": "2023-09-15T21:18:59.327Z"
   },
   {
    "duration": 27,
    "start_time": "2023-09-15T21:19:00.724Z"
   },
   {
    "duration": 24,
    "start_time": "2023-09-15T21:19:00.753Z"
   },
   {
    "duration": 33,
    "start_time": "2023-09-15T21:19:00.780Z"
   },
   {
    "duration": 32,
    "start_time": "2023-09-15T21:19:00.815Z"
   },
   {
    "duration": 19,
    "start_time": "2023-09-15T21:19:00.848Z"
   },
   {
    "duration": 19,
    "start_time": "2023-09-15T21:19:00.869Z"
   },
   {
    "duration": 23,
    "start_time": "2023-09-15T21:19:00.890Z"
   },
   {
    "duration": 30,
    "start_time": "2023-09-15T21:19:00.915Z"
   },
   {
    "duration": 21,
    "start_time": "2023-09-15T21:19:00.948Z"
   },
   {
    "duration": 19,
    "start_time": "2023-09-15T21:19:00.971Z"
   },
   {
    "duration": 188,
    "start_time": "2023-09-15T21:19:00.991Z"
   },
   {
    "duration": 151,
    "start_time": "2023-09-15T21:19:01.182Z"
   },
   {
    "duration": 214,
    "start_time": "2023-09-15T21:19:01.335Z"
   },
   {
    "duration": 227,
    "start_time": "2023-09-15T21:19:01.551Z"
   },
   {
    "duration": 238,
    "start_time": "2023-09-15T21:19:01.779Z"
   },
   {
    "duration": 32,
    "start_time": "2023-09-15T21:19:02.019Z"
   },
   {
    "duration": 22,
    "start_time": "2023-09-15T21:19:02.053Z"
   },
   {
    "duration": 64,
    "start_time": "2023-09-15T21:19:02.077Z"
   },
   {
    "duration": 492,
    "start_time": "2023-09-15T21:19:02.143Z"
   },
   {
    "duration": 488,
    "start_time": "2023-09-15T21:19:02.637Z"
   },
   {
    "duration": 142,
    "start_time": "2023-09-15T21:19:03.127Z"
   },
   {
    "duration": 22,
    "start_time": "2023-09-15T21:19:03.271Z"
   },
   {
    "duration": 543,
    "start_time": "2023-09-15T21:19:03.295Z"
   },
   {
    "duration": 6,
    "start_time": "2023-09-15T21:19:03.840Z"
   },
   {
    "duration": 115,
    "start_time": "2023-09-15T21:19:03.848Z"
   },
   {
    "duration": 6,
    "start_time": "2023-09-15T21:19:03.965Z"
   },
   {
    "duration": 1797,
    "start_time": "2023-09-16T07:04:48.915Z"
   },
   {
    "duration": 19,
    "start_time": "2023-09-16T07:05:12.076Z"
   },
   {
    "duration": 22,
    "start_time": "2023-09-16T07:05:19.258Z"
   },
   {
    "duration": 178,
    "start_time": "2023-09-16T07:48:40.307Z"
   },
   {
    "duration": 4,
    "start_time": "2023-09-16T07:52:21.691Z"
   },
   {
    "duration": 11,
    "start_time": "2023-09-16T07:52:28.580Z"
   },
   {
    "duration": 19,
    "start_time": "2023-09-16T07:52:29.708Z"
   },
   {
    "duration": 13,
    "start_time": "2023-09-16T07:52:30.906Z"
   },
   {
    "duration": 11,
    "start_time": "2023-09-16T07:52:32.001Z"
   },
   {
    "duration": 12,
    "start_time": "2023-09-16T07:52:33.320Z"
   },
   {
    "duration": 17,
    "start_time": "2023-09-16T07:52:34.340Z"
   },
   {
    "duration": 4,
    "start_time": "2023-09-16T07:52:36.498Z"
   },
   {
    "duration": 168,
    "start_time": "2023-09-16T07:53:54.907Z"
   },
   {
    "duration": 170,
    "start_time": "2023-09-16T07:54:00.168Z"
   },
   {
    "duration": 123,
    "start_time": "2023-09-16T07:54:14.269Z"
   },
   {
    "duration": 81,
    "start_time": "2023-09-16T07:54:22.176Z"
   },
   {
    "duration": 74,
    "start_time": "2023-09-16T07:54:27.803Z"
   },
   {
    "duration": 97,
    "start_time": "2023-09-16T07:54:32.251Z"
   },
   {
    "duration": 87,
    "start_time": "2023-09-16T07:58:27.439Z"
   },
   {
    "duration": 87,
    "start_time": "2023-09-16T07:58:32.333Z"
   },
   {
    "duration": 146,
    "start_time": "2023-09-16T07:58:41.095Z"
   },
   {
    "duration": 144,
    "start_time": "2023-09-16T07:58:53.013Z"
   },
   {
    "duration": 149,
    "start_time": "2023-09-16T07:58:56.383Z"
   },
   {
    "duration": 146,
    "start_time": "2023-09-16T07:59:05.530Z"
   },
   {
    "duration": 6,
    "start_time": "2023-09-16T08:04:56.202Z"
   },
   {
    "duration": 138,
    "start_time": "2023-09-16T08:07:33.723Z"
   },
   {
    "duration": 155,
    "start_time": "2023-09-16T08:08:48.588Z"
   },
   {
    "duration": 151,
    "start_time": "2023-09-16T08:08:53.965Z"
   },
   {
    "duration": 216,
    "start_time": "2023-09-16T08:09:43.240Z"
   },
   {
    "duration": 623,
    "start_time": "2023-09-16T08:09:54.396Z"
   },
   {
    "duration": 137,
    "start_time": "2023-09-16T08:11:54.430Z"
   },
   {
    "duration": 173,
    "start_time": "2023-09-16T08:13:01.041Z"
   },
   {
    "duration": 141,
    "start_time": "2023-09-16T08:13:08.969Z"
   },
   {
    "duration": 4,
    "start_time": "2023-09-16T08:13:53.269Z"
   },
   {
    "duration": 192,
    "start_time": "2023-09-16T08:14:04.582Z"
   },
   {
    "duration": 124,
    "start_time": "2023-09-16T08:14:15.954Z"
   },
   {
    "duration": 8,
    "start_time": "2023-09-16T08:14:33.083Z"
   },
   {
    "duration": 144,
    "start_time": "2023-09-16T08:14:47.004Z"
   },
   {
    "duration": 8,
    "start_time": "2023-09-16T08:16:02.674Z"
   },
   {
    "duration": 8,
    "start_time": "2023-09-16T08:16:05.410Z"
   },
   {
    "duration": 8,
    "start_time": "2023-09-16T08:16:07.779Z"
   },
   {
    "duration": 6,
    "start_time": "2023-09-16T08:16:59.359Z"
   },
   {
    "duration": 139,
    "start_time": "2023-09-16T08:17:00.894Z"
   },
   {
    "duration": 148,
    "start_time": "2023-09-16T08:17:16.132Z"
   },
   {
    "duration": 31,
    "start_time": "2023-09-16T08:20:43.336Z"
   },
   {
    "duration": 64,
    "start_time": "2023-09-16T15:42:32.324Z"
   },
   {
    "duration": 1985,
    "start_time": "2023-09-16T15:42:41.184Z"
   },
   {
    "duration": 35,
    "start_time": "2023-09-16T15:42:43.172Z"
   },
   {
    "duration": 43,
    "start_time": "2023-09-16T15:42:43.214Z"
   },
   {
    "duration": 5,
    "start_time": "2023-09-16T15:42:43.260Z"
   },
   {
    "duration": 55,
    "start_time": "2023-09-16T15:42:43.267Z"
   },
   {
    "duration": 27,
    "start_time": "2023-09-16T15:42:43.326Z"
   },
   {
    "duration": 17,
    "start_time": "2023-09-16T15:42:43.355Z"
   },
   {
    "duration": 11,
    "start_time": "2023-09-16T15:42:43.374Z"
   },
   {
    "duration": 37,
    "start_time": "2023-09-16T15:42:43.387Z"
   },
   {
    "duration": 27,
    "start_time": "2023-09-16T15:42:43.427Z"
   },
   {
    "duration": 5,
    "start_time": "2023-09-16T15:42:43.456Z"
   },
   {
    "duration": 19,
    "start_time": "2023-09-16T15:42:43.463Z"
   },
   {
    "duration": 252,
    "start_time": "2023-09-16T15:42:43.484Z"
   },
   {
    "duration": 6,
    "start_time": "2023-09-16T15:42:43.738Z"
   },
   {
    "duration": 151,
    "start_time": "2023-09-16T15:42:43.746Z"
   },
   {
    "duration": 230,
    "start_time": "2023-09-16T15:42:43.899Z"
   },
   {
    "duration": 234,
    "start_time": "2023-09-16T15:42:44.131Z"
   },
   {
    "duration": 239,
    "start_time": "2023-09-16T15:42:44.367Z"
   },
   {
    "duration": 38,
    "start_time": "2023-09-16T15:42:44.609Z"
   },
   {
    "duration": 21,
    "start_time": "2023-09-16T15:42:44.650Z"
   },
   {
    "duration": 56,
    "start_time": "2023-09-16T15:42:44.673Z"
   },
   {
    "duration": 22,
    "start_time": "2023-09-16T15:42:44.732Z"
   },
   {
    "duration": 470,
    "start_time": "2023-09-16T15:42:44.756Z"
   },
   {
    "duration": 501,
    "start_time": "2023-09-16T15:42:45.230Z"
   },
   {
    "duration": 143,
    "start_time": "2023-09-16T15:42:45.733Z"
   },
   {
    "duration": 45,
    "start_time": "2023-09-16T15:42:45.878Z"
   },
   {
    "duration": 517,
    "start_time": "2023-09-16T15:42:45.925Z"
   },
   {
    "duration": 5,
    "start_time": "2023-09-16T15:42:46.446Z"
   },
   {
    "duration": 26,
    "start_time": "2023-09-16T15:42:46.453Z"
   },
   {
    "duration": 5,
    "start_time": "2023-09-16T15:42:46.481Z"
   },
   {
    "duration": 11,
    "start_time": "2023-09-16T15:43:07.124Z"
   },
   {
    "duration": 11,
    "start_time": "2023-09-16T15:43:31.739Z"
   },
   {
    "duration": 10,
    "start_time": "2023-09-16T15:44:43.324Z"
   },
   {
    "duration": 11,
    "start_time": "2023-09-16T15:44:50.575Z"
   },
   {
    "duration": 11,
    "start_time": "2023-09-16T15:45:48.108Z"
   },
   {
    "duration": 23,
    "start_time": "2023-09-16T15:46:22.561Z"
   },
   {
    "duration": 10,
    "start_time": "2023-09-16T15:46:28.925Z"
   },
   {
    "duration": 857,
    "start_time": "2023-09-16T15:47:58.976Z"
   },
   {
    "duration": 558,
    "start_time": "2023-09-16T15:51:12.432Z"
   },
   {
    "duration": 210,
    "start_time": "2023-09-16T15:52:07.978Z"
   },
   {
    "duration": 221,
    "start_time": "2023-09-16T15:53:43.947Z"
   },
   {
    "duration": 275,
    "start_time": "2023-09-16T15:54:05.904Z"
   },
   {
    "duration": 357,
    "start_time": "2023-09-16T15:54:08.523Z"
   },
   {
    "duration": 173,
    "start_time": "2023-09-16T15:54:26.074Z"
   },
   {
    "duration": 177,
    "start_time": "2023-09-16T15:54:35.003Z"
   },
   {
    "duration": 175,
    "start_time": "2023-09-16T15:54:40.672Z"
   },
   {
    "duration": 254,
    "start_time": "2023-09-16T15:54:55.707Z"
   },
   {
    "duration": 238,
    "start_time": "2023-09-16T15:54:58.081Z"
   },
   {
    "duration": 236,
    "start_time": "2023-09-16T15:55:11.565Z"
   },
   {
    "duration": 1026,
    "start_time": "2023-09-16T15:55:49.813Z"
   },
   {
    "duration": 108,
    "start_time": "2023-09-16T15:56:19.167Z"
   },
   {
    "duration": 577,
    "start_time": "2023-09-16T15:57:08.649Z"
   },
   {
    "duration": 513,
    "start_time": "2023-09-16T15:58:46.470Z"
   },
   {
    "duration": 467,
    "start_time": "2023-09-16T15:58:50.772Z"
   },
   {
    "duration": 892,
    "start_time": "2023-09-16T15:59:08.453Z"
   },
   {
    "duration": 1052,
    "start_time": "2023-09-16T15:59:24.603Z"
   },
   {
    "duration": 444,
    "start_time": "2023-09-16T15:59:30.655Z"
   },
   {
    "duration": 1059,
    "start_time": "2023-09-16T16:02:53.793Z"
   },
   {
    "duration": 1192,
    "start_time": "2023-09-16T16:03:09.145Z"
   },
   {
    "duration": 862,
    "start_time": "2023-09-16T16:03:40.832Z"
   },
   {
    "duration": 1066,
    "start_time": "2023-09-16T16:06:26.350Z"
   },
   {
    "duration": 1059,
    "start_time": "2023-09-16T16:06:36.968Z"
   },
   {
    "duration": 978,
    "start_time": "2023-09-16T16:10:41.807Z"
   },
   {
    "duration": 909,
    "start_time": "2023-09-16T16:11:15.724Z"
   },
   {
    "duration": 5,
    "start_time": "2023-09-16T16:23:20.403Z"
   },
   {
    "duration": 33,
    "start_time": "2023-09-16T16:23:32.003Z"
   },
   {
    "duration": 7,
    "start_time": "2023-09-16T16:23:48.184Z"
   },
   {
    "duration": 8,
    "start_time": "2023-09-16T16:23:53.199Z"
   },
   {
    "duration": 7,
    "start_time": "2023-09-16T16:23:57.552Z"
   },
   {
    "duration": 7,
    "start_time": "2023-09-16T16:24:06.280Z"
   },
   {
    "duration": 238,
    "start_time": "2023-09-16T16:24:08.006Z"
   },
   {
    "duration": 25,
    "start_time": "2023-09-16T16:24:13.559Z"
   },
   {
    "duration": 23,
    "start_time": "2023-09-16T16:24:22.241Z"
   },
   {
    "duration": 8,
    "start_time": "2023-09-16T16:24:27.047Z"
   },
   {
    "duration": 53,
    "start_time": "2023-09-16T16:24:27.307Z"
   },
   {
    "duration": 23,
    "start_time": "2023-09-16T16:24:29.542Z"
   },
   {
    "duration": 5,
    "start_time": "2023-09-16T16:25:17.154Z"
   },
   {
    "duration": 9,
    "start_time": "2023-09-16T16:29:42.044Z"
   },
   {
    "duration": 9,
    "start_time": "2023-09-16T16:30:10.037Z"
   },
   {
    "duration": 28,
    "start_time": "2023-09-16T16:30:12.216Z"
   },
   {
    "duration": 31,
    "start_time": "2023-09-16T16:31:04.162Z"
   },
   {
    "duration": 23,
    "start_time": "2023-09-16T16:31:12.878Z"
   },
   {
    "duration": 7,
    "start_time": "2023-09-16T16:31:41.563Z"
   },
   {
    "duration": 40,
    "start_time": "2023-09-16T16:31:41.840Z"
   },
   {
    "duration": 7,
    "start_time": "2023-09-16T16:31:43.460Z"
   },
   {
    "duration": 24,
    "start_time": "2023-09-16T16:31:46.942Z"
   },
   {
    "duration": 596,
    "start_time": "2023-09-16T16:38:46.483Z"
   },
   {
    "duration": 608,
    "start_time": "2023-09-16T16:39:53.003Z"
   },
   {
    "duration": 20,
    "start_time": "2023-09-16T16:40:05.061Z"
   },
   {
    "duration": 605,
    "start_time": "2023-09-16T16:40:18.344Z"
   },
   {
    "duration": 18,
    "start_time": "2023-09-16T16:41:11.863Z"
   },
   {
    "duration": 17,
    "start_time": "2023-09-16T16:55:50.783Z"
   },
   {
    "duration": 22,
    "start_time": "2023-09-16T16:59:20.527Z"
   },
   {
    "duration": 34,
    "start_time": "2023-09-16T16:59:30.003Z"
   },
   {
    "duration": 19,
    "start_time": "2023-09-16T16:59:54.679Z"
   },
   {
    "duration": 8,
    "start_time": "2023-09-16T17:02:39.086Z"
   },
   {
    "duration": 6,
    "start_time": "2023-09-16T17:02:48.855Z"
   },
   {
    "duration": 10,
    "start_time": "2023-09-16T17:02:55.047Z"
   },
   {
    "duration": 2420,
    "start_time": "2023-09-16T17:05:44.045Z"
   },
   {
    "duration": 20,
    "start_time": "2023-09-16T17:06:03.376Z"
   },
   {
    "duration": 17,
    "start_time": "2023-09-16T17:07:47.641Z"
   },
   {
    "duration": 2442,
    "start_time": "2023-09-16T17:07:54.333Z"
   },
   {
    "duration": 171,
    "start_time": "2023-09-16T17:07:58.209Z"
   },
   {
    "duration": 2029,
    "start_time": "2023-09-16T17:08:04.928Z"
   },
   {
    "duration": 6,
    "start_time": "2023-09-16T17:08:30.079Z"
   },
   {
    "duration": 19,
    "start_time": "2023-09-16T17:09:28.212Z"
   },
   {
    "duration": 6,
    "start_time": "2023-09-16T17:09:36.089Z"
   },
   {
    "duration": 9,
    "start_time": "2023-09-16T17:09:44.922Z"
   },
   {
    "duration": 7,
    "start_time": "2023-09-16T17:20:09.708Z"
   },
   {
    "duration": 13,
    "start_time": "2023-09-16T17:20:12.451Z"
   },
   {
    "duration": 12,
    "start_time": "2023-09-16T17:20:32.794Z"
   },
   {
    "duration": 9,
    "start_time": "2023-09-16T17:25:30.196Z"
   },
   {
    "duration": 10,
    "start_time": "2023-09-16T17:25:34.753Z"
   },
   {
    "duration": 1436,
    "start_time": "2023-09-16T17:26:11.456Z"
   },
   {
    "duration": 8,
    "start_time": "2023-09-16T17:26:34.461Z"
   },
   {
    "duration": 7,
    "start_time": "2023-09-16T17:43:02.663Z"
   },
   {
    "duration": 1545,
    "start_time": "2023-09-16T17:51:41.840Z"
   },
   {
    "duration": 34,
    "start_time": "2023-09-16T17:51:43.387Z"
   },
   {
    "duration": 54,
    "start_time": "2023-09-16T17:51:43.424Z"
   },
   {
    "duration": 11,
    "start_time": "2023-09-16T17:51:43.480Z"
   },
   {
    "duration": 45,
    "start_time": "2023-09-16T17:51:43.493Z"
   },
   {
    "duration": 41,
    "start_time": "2023-09-16T17:51:43.540Z"
   },
   {
    "duration": 66,
    "start_time": "2023-09-16T17:51:43.582Z"
   },
   {
    "duration": 25,
    "start_time": "2023-09-16T17:51:43.649Z"
   },
   {
    "duration": 23,
    "start_time": "2023-09-16T17:51:43.675Z"
   },
   {
    "duration": 48,
    "start_time": "2023-09-16T17:51:43.700Z"
   },
   {
    "duration": 33,
    "start_time": "2023-09-16T17:51:43.750Z"
   },
   {
    "duration": 20,
    "start_time": "2023-09-16T17:51:43.785Z"
   },
   {
    "duration": 223,
    "start_time": "2023-09-16T17:51:43.807Z"
   },
   {
    "duration": 11,
    "start_time": "2023-09-16T17:51:44.039Z"
   },
   {
    "duration": 140,
    "start_time": "2023-09-16T17:51:44.053Z"
   },
   {
    "duration": 266,
    "start_time": "2023-09-16T17:51:44.195Z"
   },
   {
    "duration": 314,
    "start_time": "2023-09-16T17:51:44.463Z"
   },
   {
    "duration": 308,
    "start_time": "2023-09-16T17:51:44.779Z"
   },
   {
    "duration": 57,
    "start_time": "2023-09-16T17:51:45.089Z"
   },
   {
    "duration": 14,
    "start_time": "2023-09-16T17:51:45.149Z"
   },
   {
    "duration": 27,
    "start_time": "2023-09-16T17:51:45.165Z"
   },
   {
    "duration": 55,
    "start_time": "2023-09-16T17:51:45.194Z"
   },
   {
    "duration": 1001,
    "start_time": "2023-09-16T17:51:45.251Z"
   },
   {
    "duration": 128,
    "start_time": "2023-09-16T17:51:46.253Z"
   },
   {
    "duration": 0,
    "start_time": "2023-09-16T17:51:46.383Z"
   },
   {
    "duration": 0,
    "start_time": "2023-09-16T17:51:46.384Z"
   },
   {
    "duration": 0,
    "start_time": "2023-09-16T17:51:46.385Z"
   },
   {
    "duration": 0,
    "start_time": "2023-09-16T17:51:46.386Z"
   },
   {
    "duration": 0,
    "start_time": "2023-09-16T17:51:46.388Z"
   },
   {
    "duration": 0,
    "start_time": "2023-09-16T17:51:46.389Z"
   },
   {
    "duration": 90,
    "start_time": "2023-09-16T17:52:57.559Z"
   },
   {
    "duration": 1511,
    "start_time": "2023-09-16T17:53:01.739Z"
   },
   {
    "duration": 24,
    "start_time": "2023-09-16T17:53:03.252Z"
   },
   {
    "duration": 27,
    "start_time": "2023-09-16T17:53:03.278Z"
   },
   {
    "duration": 25,
    "start_time": "2023-09-16T17:53:03.307Z"
   },
   {
    "duration": 24,
    "start_time": "2023-09-16T17:53:03.334Z"
   },
   {
    "duration": 19,
    "start_time": "2023-09-16T17:53:03.361Z"
   },
   {
    "duration": 12,
    "start_time": "2023-09-16T17:53:03.381Z"
   },
   {
    "duration": 11,
    "start_time": "2023-09-16T17:53:03.395Z"
   },
   {
    "duration": 31,
    "start_time": "2023-09-16T17:53:03.408Z"
   },
   {
    "duration": 22,
    "start_time": "2023-09-16T17:53:03.443Z"
   },
   {
    "duration": 9,
    "start_time": "2023-09-16T17:53:03.467Z"
   },
   {
    "duration": 24,
    "start_time": "2023-09-16T17:53:03.477Z"
   },
   {
    "duration": 185,
    "start_time": "2023-09-16T17:53:03.503Z"
   },
   {
    "duration": 6,
    "start_time": "2023-09-16T17:53:03.690Z"
   },
   {
    "duration": 153,
    "start_time": "2023-09-16T17:53:03.709Z"
   },
   {
    "duration": 239,
    "start_time": "2023-09-16T17:53:03.864Z"
   },
   {
    "duration": 249,
    "start_time": "2023-09-16T17:53:04.110Z"
   },
   {
    "duration": 274,
    "start_time": "2023-09-16T17:53:04.361Z"
   },
   {
    "duration": 32,
    "start_time": "2023-09-16T17:53:04.637Z"
   },
   {
    "duration": 9,
    "start_time": "2023-09-16T17:53:04.671Z"
   },
   {
    "duration": 55,
    "start_time": "2023-09-16T17:53:04.682Z"
   },
   {
    "duration": 24,
    "start_time": "2023-09-16T17:53:04.742Z"
   },
   {
    "duration": 991,
    "start_time": "2023-09-16T17:53:04.767Z"
   },
   {
    "duration": 9,
    "start_time": "2023-09-16T17:53:05.760Z"
   },
   {
    "duration": 174,
    "start_time": "2023-09-16T17:53:05.771Z"
   },
   {
    "duration": 8,
    "start_time": "2023-09-16T17:53:05.947Z"
   },
   {
    "duration": 37,
    "start_time": "2023-09-16T17:53:05.957Z"
   },
   {
    "duration": 147,
    "start_time": "2023-09-16T17:53:06.010Z"
   },
   {
    "duration": 1,
    "start_time": "2023-09-16T17:53:06.159Z"
   },
   {
    "duration": 0,
    "start_time": "2023-09-16T17:53:06.162Z"
   },
   {
    "duration": 15,
    "start_time": "2023-09-16T17:53:18.482Z"
   },
   {
    "duration": 27,
    "start_time": "2023-09-16T17:53:28.441Z"
   },
   {
    "duration": 6,
    "start_time": "2023-09-16T17:54:07.068Z"
   },
   {
    "duration": 16,
    "start_time": "2023-09-16T17:54:16.718Z"
   },
   {
    "duration": 30,
    "start_time": "2023-09-16T17:54:34.291Z"
   },
   {
    "duration": 19,
    "start_time": "2023-09-16T17:54:54.771Z"
   },
   {
    "duration": 45,
    "start_time": "2023-09-16T17:55:00.619Z"
   },
   {
    "duration": 1674,
    "start_time": "2023-09-16T19:28:01.536Z"
   },
   {
    "duration": 22,
    "start_time": "2023-09-16T19:28:03.212Z"
   },
   {
    "duration": 34,
    "start_time": "2023-09-16T19:28:03.236Z"
   },
   {
    "duration": 5,
    "start_time": "2023-09-16T19:28:03.272Z"
   },
   {
    "duration": 25,
    "start_time": "2023-09-16T19:28:03.279Z"
   },
   {
    "duration": 33,
    "start_time": "2023-09-16T19:28:03.306Z"
   },
   {
    "duration": 14,
    "start_time": "2023-09-16T19:28:03.341Z"
   },
   {
    "duration": 28,
    "start_time": "2023-09-16T19:28:03.359Z"
   },
   {
    "duration": 30,
    "start_time": "2023-09-16T19:28:03.389Z"
   },
   {
    "duration": 48,
    "start_time": "2023-09-16T19:28:03.421Z"
   },
   {
    "duration": 4,
    "start_time": "2023-09-16T19:28:03.470Z"
   },
   {
    "duration": 24,
    "start_time": "2023-09-16T19:28:03.475Z"
   },
   {
    "duration": 178,
    "start_time": "2023-09-16T19:28:03.501Z"
   },
   {
    "duration": 8,
    "start_time": "2023-09-16T19:28:03.681Z"
   },
   {
    "duration": 192,
    "start_time": "2023-09-16T19:28:03.691Z"
   },
   {
    "duration": 245,
    "start_time": "2023-09-16T19:28:03.886Z"
   },
   {
    "duration": 213,
    "start_time": "2023-09-16T19:28:04.133Z"
   },
   {
    "duration": 253,
    "start_time": "2023-09-16T19:28:04.349Z"
   },
   {
    "duration": 49,
    "start_time": "2023-09-16T19:28:04.605Z"
   },
   {
    "duration": 11,
    "start_time": "2023-09-16T19:28:04.656Z"
   },
   {
    "duration": 41,
    "start_time": "2023-09-16T19:28:04.669Z"
   },
   {
    "duration": 26,
    "start_time": "2023-09-16T19:28:04.712Z"
   },
   {
    "duration": 1291,
    "start_time": "2023-09-16T19:28:27.158Z"
   },
   {
    "duration": 26,
    "start_time": "2023-09-16T19:28:28.451Z"
   },
   {
    "duration": 23,
    "start_time": "2023-09-16T19:28:28.478Z"
   },
   {
    "duration": 8,
    "start_time": "2023-09-16T19:28:28.503Z"
   },
   {
    "duration": 48,
    "start_time": "2023-09-16T19:28:28.514Z"
   },
   {
    "duration": 20,
    "start_time": "2023-09-16T19:28:28.564Z"
   },
   {
    "duration": 21,
    "start_time": "2023-09-16T19:28:28.586Z"
   },
   {
    "duration": 10,
    "start_time": "2023-09-16T19:28:28.609Z"
   },
   {
    "duration": 8,
    "start_time": "2023-09-16T19:28:28.621Z"
   },
   {
    "duration": 35,
    "start_time": "2023-09-16T19:28:28.631Z"
   },
   {
    "duration": 20,
    "start_time": "2023-09-16T19:28:28.668Z"
   },
   {
    "duration": 16,
    "start_time": "2023-09-16T19:28:28.690Z"
   },
   {
    "duration": 163,
    "start_time": "2023-09-16T19:28:28.707Z"
   },
   {
    "duration": 5,
    "start_time": "2023-09-16T19:28:28.873Z"
   },
   {
    "duration": 155,
    "start_time": "2023-09-16T19:28:28.880Z"
   },
   {
    "duration": 225,
    "start_time": "2023-09-16T19:28:29.036Z"
   },
   {
    "duration": 224,
    "start_time": "2023-09-16T19:28:29.264Z"
   },
   {
    "duration": 227,
    "start_time": "2023-09-16T19:28:29.490Z"
   },
   {
    "duration": 46,
    "start_time": "2023-09-16T19:28:29.718Z"
   },
   {
    "duration": 9,
    "start_time": "2023-09-16T19:28:29.765Z"
   },
   {
    "duration": 30,
    "start_time": "2023-09-16T19:28:29.776Z"
   },
   {
    "duration": 53,
    "start_time": "2023-09-16T19:28:29.808Z"
   },
   {
    "duration": 781,
    "start_time": "2023-09-16T19:28:29.864Z"
   },
   {
    "duration": 7,
    "start_time": "2023-09-16T19:28:30.652Z"
   },
   {
    "duration": 153,
    "start_time": "2023-09-16T19:28:30.661Z"
   },
   {
    "duration": 8,
    "start_time": "2023-09-16T19:28:30.815Z"
   },
   {
    "duration": 82,
    "start_time": "2023-09-16T19:28:30.824Z"
   },
   {
    "duration": 114,
    "start_time": "2023-09-16T19:28:30.908Z"
   },
   {
    "duration": 0,
    "start_time": "2023-09-16T19:28:31.023Z"
   },
   {
    "duration": 0,
    "start_time": "2023-09-16T19:28:31.025Z"
   },
   {
    "duration": 19,
    "start_time": "2023-09-16T19:30:52.032Z"
   },
   {
    "duration": 6,
    "start_time": "2023-09-16T19:33:11.275Z"
   },
   {
    "duration": 9,
    "start_time": "2023-09-16T19:33:16.435Z"
   },
   {
    "duration": 17,
    "start_time": "2023-09-16T19:37:04.392Z"
   },
   {
    "duration": 18,
    "start_time": "2023-09-16T19:37:19.789Z"
   },
   {
    "duration": 19,
    "start_time": "2023-09-16T19:37:26.660Z"
   },
   {
    "duration": 8,
    "start_time": "2023-09-16T19:38:50.518Z"
   },
   {
    "duration": 7,
    "start_time": "2023-09-16T19:39:26.791Z"
   },
   {
    "duration": 8,
    "start_time": "2023-09-16T19:39:32.956Z"
   },
   {
    "duration": 9,
    "start_time": "2023-09-16T19:39:46.127Z"
   },
   {
    "duration": 10,
    "start_time": "2023-09-16T19:40:04.875Z"
   },
   {
    "duration": 6,
    "start_time": "2023-09-16T19:40:33.701Z"
   },
   {
    "duration": 22,
    "start_time": "2023-09-16T19:41:00.864Z"
   },
   {
    "duration": 9,
    "start_time": "2023-09-16T19:41:39.558Z"
   },
   {
    "duration": 11,
    "start_time": "2023-09-16T19:41:43.473Z"
   },
   {
    "duration": 91,
    "start_time": "2023-09-16T19:44:56.382Z"
   },
   {
    "duration": 21,
    "start_time": "2023-09-16T19:45:07.062Z"
   },
   {
    "duration": 8,
    "start_time": "2023-09-16T19:49:51.466Z"
   },
   {
    "duration": 1235,
    "start_time": "2023-09-16T19:50:17.726Z"
   },
   {
    "duration": 21,
    "start_time": "2023-09-16T19:50:18.963Z"
   },
   {
    "duration": 63,
    "start_time": "2023-09-16T19:50:18.986Z"
   },
   {
    "duration": 14,
    "start_time": "2023-09-16T19:50:19.057Z"
   },
   {
    "duration": 31,
    "start_time": "2023-09-16T19:50:19.073Z"
   },
   {
    "duration": 23,
    "start_time": "2023-09-16T19:50:19.106Z"
   },
   {
    "duration": 10,
    "start_time": "2023-09-16T19:50:19.130Z"
   },
   {
    "duration": 9,
    "start_time": "2023-09-16T19:50:19.141Z"
   },
   {
    "duration": 11,
    "start_time": "2023-09-16T19:50:19.152Z"
   },
   {
    "duration": 15,
    "start_time": "2023-09-16T19:50:19.167Z"
   },
   {
    "duration": 10,
    "start_time": "2023-09-16T19:50:19.184Z"
   },
   {
    "duration": 17,
    "start_time": "2023-09-16T19:50:19.195Z"
   },
   {
    "duration": 163,
    "start_time": "2023-09-16T19:50:19.214Z"
   },
   {
    "duration": 6,
    "start_time": "2023-09-16T19:50:19.379Z"
   },
   {
    "duration": 127,
    "start_time": "2023-09-16T19:50:19.386Z"
   },
   {
    "duration": 200,
    "start_time": "2023-09-16T19:50:19.515Z"
   },
   {
    "duration": 207,
    "start_time": "2023-09-16T19:50:19.717Z"
   },
   {
    "duration": 238,
    "start_time": "2023-09-16T19:50:19.926Z"
   },
   {
    "duration": 30,
    "start_time": "2023-09-16T19:50:20.166Z"
   },
   {
    "duration": 9,
    "start_time": "2023-09-16T19:50:20.198Z"
   },
   {
    "duration": 54,
    "start_time": "2023-09-16T19:50:20.209Z"
   },
   {
    "duration": 21,
    "start_time": "2023-09-16T19:50:20.265Z"
   },
   {
    "duration": 788,
    "start_time": "2023-09-16T19:50:20.288Z"
   },
   {
    "duration": 6,
    "start_time": "2023-09-16T19:50:21.078Z"
   },
   {
    "duration": 149,
    "start_time": "2023-09-16T19:50:21.086Z"
   },
   {
    "duration": 5,
    "start_time": "2023-09-16T19:50:21.237Z"
   },
   {
    "duration": 25,
    "start_time": "2023-09-16T19:50:21.250Z"
   },
   {
    "duration": 117,
    "start_time": "2023-09-16T19:50:21.278Z"
   },
   {
    "duration": 0,
    "start_time": "2023-09-16T19:50:21.396Z"
   },
   {
    "duration": 0,
    "start_time": "2023-09-16T19:50:21.397Z"
   },
   {
    "duration": 16,
    "start_time": "2023-09-16T19:53:10.622Z"
   },
   {
    "duration": 17,
    "start_time": "2023-09-16T19:53:13.612Z"
   },
   {
    "duration": 28,
    "start_time": "2023-09-16T19:53:16.528Z"
   },
   {
    "duration": 17,
    "start_time": "2023-09-16T19:53:19.301Z"
   },
   {
    "duration": 9,
    "start_time": "2023-09-16T19:53:23.873Z"
   },
   {
    "duration": 24,
    "start_time": "2023-09-16T19:53:59.190Z"
   },
   {
    "duration": 16,
    "start_time": "2023-09-16T19:54:47.469Z"
   },
   {
    "duration": 5,
    "start_time": "2023-09-16T19:55:00.871Z"
   },
   {
    "duration": 16,
    "start_time": "2023-09-16T19:55:13.095Z"
   },
   {
    "duration": 19,
    "start_time": "2023-09-16T19:56:32.514Z"
   },
   {
    "duration": 1580,
    "start_time": "2023-09-16T20:21:38.301Z"
   },
   {
    "duration": 23,
    "start_time": "2023-09-16T20:21:39.884Z"
   },
   {
    "duration": 38,
    "start_time": "2023-09-16T20:21:39.909Z"
   },
   {
    "duration": 8,
    "start_time": "2023-09-16T20:21:39.949Z"
   },
   {
    "duration": 29,
    "start_time": "2023-09-16T20:21:39.958Z"
   },
   {
    "duration": 25,
    "start_time": "2023-09-16T20:21:39.989Z"
   },
   {
    "duration": 94,
    "start_time": "2023-09-16T20:21:40.016Z"
   },
   {
    "duration": 28,
    "start_time": "2023-09-16T20:21:40.112Z"
   },
   {
    "duration": 34,
    "start_time": "2023-09-16T20:21:40.142Z"
   },
   {
    "duration": 42,
    "start_time": "2023-09-16T20:21:40.179Z"
   },
   {
    "duration": 29,
    "start_time": "2023-09-16T20:21:40.223Z"
   },
   {
    "duration": 31,
    "start_time": "2023-09-16T20:21:40.254Z"
   },
   {
    "duration": 195,
    "start_time": "2023-09-16T20:21:40.287Z"
   },
   {
    "duration": 7,
    "start_time": "2023-09-16T20:21:40.483Z"
   },
   {
    "duration": 137,
    "start_time": "2023-09-16T20:21:40.492Z"
   },
   {
    "duration": 204,
    "start_time": "2023-09-16T20:21:40.631Z"
   },
   {
    "duration": 223,
    "start_time": "2023-09-16T20:21:40.836Z"
   },
   {
    "duration": 215,
    "start_time": "2023-09-16T20:21:41.061Z"
   },
   {
    "duration": 38,
    "start_time": "2023-09-16T20:21:41.277Z"
   },
   {
    "duration": 9,
    "start_time": "2023-09-16T20:21:41.324Z"
   },
   {
    "duration": 47,
    "start_time": "2023-09-16T20:21:41.334Z"
   },
   {
    "duration": 23,
    "start_time": "2023-09-16T20:21:41.383Z"
   },
   {
    "duration": 841,
    "start_time": "2023-09-16T20:21:41.408Z"
   },
   {
    "duration": 6,
    "start_time": "2023-09-16T20:21:42.251Z"
   },
   {
    "duration": 151,
    "start_time": "2023-09-16T20:21:42.259Z"
   },
   {
    "duration": 7,
    "start_time": "2023-09-16T20:21:42.411Z"
   },
   {
    "duration": 19,
    "start_time": "2023-09-16T20:21:42.424Z"
   },
   {
    "duration": 134,
    "start_time": "2023-09-16T20:21:42.446Z"
   },
   {
    "duration": 0,
    "start_time": "2023-09-16T20:21:42.581Z"
   },
   {
    "duration": 0,
    "start_time": "2023-09-16T20:21:42.583Z"
   },
   {
    "duration": 10,
    "start_time": "2023-09-16T20:30:21.759Z"
   },
   {
    "duration": 11,
    "start_time": "2023-09-16T20:33:29.509Z"
   },
   {
    "duration": 6,
    "start_time": "2023-09-16T20:33:52.986Z"
   },
   {
    "duration": 5,
    "start_time": "2023-09-16T20:37:44.117Z"
   },
   {
    "duration": 7,
    "start_time": "2023-09-16T20:38:54.698Z"
   },
   {
    "duration": 103,
    "start_time": "2023-09-17T07:06:28.002Z"
   },
   {
    "duration": 84,
    "start_time": "2023-09-17T07:06:31.074Z"
   },
   {
    "duration": 100,
    "start_time": "2023-09-17T07:06:35.069Z"
   },
   {
    "duration": 66,
    "start_time": "2023-09-17T07:06:37.637Z"
   },
   {
    "duration": 308,
    "start_time": "2023-09-17T07:06:48.737Z"
   },
   {
    "duration": 1507,
    "start_time": "2023-09-17T07:06:54.808Z"
   },
   {
    "duration": 23,
    "start_time": "2023-09-17T07:06:56.317Z"
   },
   {
    "duration": 25,
    "start_time": "2023-09-17T07:06:56.342Z"
   },
   {
    "duration": 4,
    "start_time": "2023-09-17T07:06:56.369Z"
   },
   {
    "duration": 19,
    "start_time": "2023-09-17T07:06:56.374Z"
   },
   {
    "duration": 16,
    "start_time": "2023-09-17T07:06:56.394Z"
   },
   {
    "duration": 10,
    "start_time": "2023-09-17T07:06:56.411Z"
   },
   {
    "duration": 11,
    "start_time": "2023-09-17T07:06:56.444Z"
   },
   {
    "duration": 17,
    "start_time": "2023-09-17T07:06:56.456Z"
   },
   {
    "duration": 30,
    "start_time": "2023-09-17T07:06:56.475Z"
   },
   {
    "duration": 4,
    "start_time": "2023-09-17T07:06:56.507Z"
   },
   {
    "duration": 19,
    "start_time": "2023-09-17T07:06:56.512Z"
   },
   {
    "duration": 149,
    "start_time": "2023-09-17T07:06:56.532Z"
   },
   {
    "duration": 5,
    "start_time": "2023-09-17T07:06:56.683Z"
   },
   {
    "duration": 119,
    "start_time": "2023-09-17T07:06:56.690Z"
   },
   {
    "duration": 229,
    "start_time": "2023-09-17T07:06:56.811Z"
   },
   {
    "duration": 201,
    "start_time": "2023-09-17T07:06:57.044Z"
   },
   {
    "duration": 198,
    "start_time": "2023-09-17T07:06:57.247Z"
   },
   {
    "duration": 25,
    "start_time": "2023-09-17T07:06:57.447Z"
   },
   {
    "duration": 9,
    "start_time": "2023-09-17T07:06:57.474Z"
   },
   {
    "duration": 53,
    "start_time": "2023-09-17T07:06:57.485Z"
   },
   {
    "duration": 18,
    "start_time": "2023-09-17T07:06:57.539Z"
   },
   {
    "duration": 724,
    "start_time": "2023-09-17T07:06:57.558Z"
   },
   {
    "duration": 5,
    "start_time": "2023-09-17T07:06:58.284Z"
   },
   {
    "duration": 134,
    "start_time": "2023-09-17T07:06:58.290Z"
   },
   {
    "duration": 23,
    "start_time": "2023-09-17T07:06:58.425Z"
   },
   {
    "duration": 21,
    "start_time": "2023-09-17T07:06:58.450Z"
   },
   {
    "duration": 120,
    "start_time": "2023-09-17T07:06:58.474Z"
   },
   {
    "duration": 0,
    "start_time": "2023-09-17T07:06:58.595Z"
   },
   {
    "duration": 0,
    "start_time": "2023-09-17T07:06:58.596Z"
   },
   {
    "duration": 5,
    "start_time": "2023-09-17T07:07:29.512Z"
   },
   {
    "duration": 6,
    "start_time": "2023-09-17T07:11:42.871Z"
   },
   {
    "duration": 6,
    "start_time": "2023-09-17T07:11:48.895Z"
   },
   {
    "duration": 6,
    "start_time": "2023-09-17T07:12:09.668Z"
   },
   {
    "duration": 6,
    "start_time": "2023-09-17T07:12:28.674Z"
   },
   {
    "duration": 6,
    "start_time": "2023-09-17T07:12:36.281Z"
   },
   {
    "duration": 10,
    "start_time": "2023-09-17T07:27:14.393Z"
   },
   {
    "duration": 6,
    "start_time": "2023-09-17T07:27:38.700Z"
   },
   {
    "duration": 6,
    "start_time": "2023-09-17T07:52:01.115Z"
   },
   {
    "duration": 7,
    "start_time": "2023-09-17T08:10:00.440Z"
   },
   {
    "duration": 6,
    "start_time": "2023-09-17T08:10:10.420Z"
   },
   {
    "duration": 6,
    "start_time": "2023-09-17T08:14:54.925Z"
   },
   {
    "duration": 7,
    "start_time": "2023-09-17T08:16:30.876Z"
   },
   {
    "duration": 7,
    "start_time": "2023-09-17T08:16:35.098Z"
   },
   {
    "duration": 5,
    "start_time": "2023-09-17T08:20:40.779Z"
   },
   {
    "duration": 7,
    "start_time": "2023-09-17T08:21:49.479Z"
   },
   {
    "duration": 181,
    "start_time": "2023-09-17T08:23:11.493Z"
   },
   {
    "duration": 8,
    "start_time": "2023-09-17T08:24:46.031Z"
   },
   {
    "duration": 8,
    "start_time": "2023-09-17T08:28:25.702Z"
   },
   {
    "duration": 7,
    "start_time": "2023-09-17T08:42:17.683Z"
   },
   {
    "duration": 9,
    "start_time": "2023-09-17T08:42:35.543Z"
   },
   {
    "duration": 7,
    "start_time": "2023-09-17T08:43:32.327Z"
   },
   {
    "duration": 6,
    "start_time": "2023-09-17T08:49:27.280Z"
   },
   {
    "duration": 13,
    "start_time": "2023-09-17T08:52:29.642Z"
   },
   {
    "duration": 8,
    "start_time": "2023-09-17T08:53:52.546Z"
   },
   {
    "duration": 8,
    "start_time": "2023-09-17T08:55:59.483Z"
   },
   {
    "duration": 1232,
    "start_time": "2023-09-17T09:52:37.742Z"
   },
   {
    "duration": 33,
    "start_time": "2023-09-17T09:52:38.977Z"
   },
   {
    "duration": 36,
    "start_time": "2023-09-17T09:52:39.011Z"
   },
   {
    "duration": 6,
    "start_time": "2023-09-17T09:52:39.050Z"
   },
   {
    "duration": 13,
    "start_time": "2023-09-17T09:52:39.057Z"
   },
   {
    "duration": 21,
    "start_time": "2023-09-17T09:52:39.072Z"
   },
   {
    "duration": 16,
    "start_time": "2023-09-17T09:52:39.095Z"
   },
   {
    "duration": 34,
    "start_time": "2023-09-17T09:52:39.113Z"
   },
   {
    "duration": 12,
    "start_time": "2023-09-17T09:52:39.149Z"
   },
   {
    "duration": 24,
    "start_time": "2023-09-17T09:52:39.165Z"
   },
   {
    "duration": 4,
    "start_time": "2023-09-17T09:52:39.191Z"
   },
   {
    "duration": 7,
    "start_time": "2023-09-17T09:52:39.197Z"
   },
   {
    "duration": 164,
    "start_time": "2023-09-17T09:52:39.243Z"
   },
   {
    "duration": 6,
    "start_time": "2023-09-17T09:52:39.408Z"
   },
   {
    "duration": 128,
    "start_time": "2023-09-17T09:52:39.416Z"
   },
   {
    "duration": 235,
    "start_time": "2023-09-17T09:52:39.546Z"
   },
   {
    "duration": 234,
    "start_time": "2023-09-17T09:52:39.783Z"
   },
   {
    "duration": 228,
    "start_time": "2023-09-17T09:52:40.020Z"
   },
   {
    "duration": 37,
    "start_time": "2023-09-17T09:52:40.250Z"
   },
   {
    "duration": 8,
    "start_time": "2023-09-17T09:52:40.289Z"
   },
   {
    "duration": 49,
    "start_time": "2023-09-17T09:52:40.298Z"
   },
   {
    "duration": 25,
    "start_time": "2023-09-17T09:52:40.349Z"
   },
   {
    "duration": 849,
    "start_time": "2023-09-17T09:52:40.376Z"
   },
   {
    "duration": 7,
    "start_time": "2023-09-17T09:52:41.227Z"
   },
   {
    "duration": 136,
    "start_time": "2023-09-17T09:52:41.244Z"
   },
   {
    "duration": 7,
    "start_time": "2023-09-17T09:52:41.382Z"
   },
   {
    "duration": 40,
    "start_time": "2023-09-17T09:52:41.391Z"
   },
   {
    "duration": 11,
    "start_time": "2023-09-17T09:52:41.434Z"
   },
   {
    "duration": 17,
    "start_time": "2023-09-17T09:52:41.447Z"
   },
   {
    "duration": 8,
    "start_time": "2023-09-17T09:52:41.466Z"
   },
   {
    "duration": 1401,
    "start_time": "2023-09-17T10:15:51.312Z"
   },
   {
    "duration": 22,
    "start_time": "2023-09-17T10:15:52.715Z"
   },
   {
    "duration": 26,
    "start_time": "2023-09-17T10:15:52.738Z"
   },
   {
    "duration": 3,
    "start_time": "2023-09-17T10:15:52.766Z"
   },
   {
    "duration": 38,
    "start_time": "2023-09-17T10:15:52.771Z"
   },
   {
    "duration": 17,
    "start_time": "2023-09-17T10:15:52.811Z"
   },
   {
    "duration": 12,
    "start_time": "2023-09-17T10:15:52.830Z"
   },
   {
    "duration": 8,
    "start_time": "2023-09-17T10:15:52.843Z"
   },
   {
    "duration": 14,
    "start_time": "2023-09-17T10:15:52.852Z"
   },
   {
    "duration": 47,
    "start_time": "2023-09-17T10:15:52.869Z"
   },
   {
    "duration": 3,
    "start_time": "2023-09-17T10:15:52.918Z"
   },
   {
    "duration": 12,
    "start_time": "2023-09-17T10:15:52.923Z"
   },
   {
    "duration": 178,
    "start_time": "2023-09-17T10:15:52.937Z"
   },
   {
    "duration": 7,
    "start_time": "2023-09-17T10:15:53.116Z"
   },
   {
    "duration": 140,
    "start_time": "2023-09-17T10:15:53.125Z"
   },
   {
    "duration": 219,
    "start_time": "2023-09-17T10:15:53.267Z"
   },
   {
    "duration": 221,
    "start_time": "2023-09-17T10:15:53.488Z"
   },
   {
    "duration": 228,
    "start_time": "2023-09-17T10:15:53.711Z"
   },
   {
    "duration": 30,
    "start_time": "2023-09-17T10:15:53.941Z"
   },
   {
    "duration": 8,
    "start_time": "2023-09-17T10:15:53.973Z"
   },
   {
    "duration": 52,
    "start_time": "2023-09-17T10:15:53.983Z"
   },
   {
    "duration": 20,
    "start_time": "2023-09-17T10:15:54.037Z"
   },
   {
    "duration": 836,
    "start_time": "2023-09-17T10:15:54.059Z"
   },
   {
    "duration": 13,
    "start_time": "2023-09-17T10:15:54.897Z"
   },
   {
    "duration": 143,
    "start_time": "2023-09-17T10:15:54.912Z"
   },
   {
    "duration": 6,
    "start_time": "2023-09-17T10:15:55.057Z"
   },
   {
    "duration": 44,
    "start_time": "2023-09-17T10:15:55.065Z"
   },
   {
    "duration": 6,
    "start_time": "2023-09-17T10:15:55.113Z"
   },
   {
    "duration": 37,
    "start_time": "2023-09-17T10:15:55.121Z"
   },
   {
    "duration": 36,
    "start_time": "2023-09-17T10:15:55.160Z"
   },
   {
    "duration": 7,
    "start_time": "2023-09-17T10:17:31.498Z"
   },
   {
    "duration": 1295,
    "start_time": "2024-10-01T06:47:59.353Z"
   },
   {
    "duration": 20,
    "start_time": "2024-10-01T06:48:00.649Z"
   },
   {
    "duration": 26,
    "start_time": "2024-10-01T06:48:00.670Z"
   },
   {
    "duration": 3,
    "start_time": "2024-10-01T06:48:00.698Z"
   },
   {
    "duration": 45,
    "start_time": "2024-10-01T06:48:00.702Z"
   },
   {
    "duration": 41,
    "start_time": "2024-10-01T06:48:00.748Z"
   },
   {
    "duration": 37,
    "start_time": "2024-10-01T06:48:00.790Z"
   },
   {
    "duration": 12,
    "start_time": "2024-10-01T06:48:00.828Z"
   },
   {
    "duration": 38,
    "start_time": "2024-10-01T06:48:00.842Z"
   },
   {
    "duration": 57,
    "start_time": "2024-10-01T06:48:00.882Z"
   },
   {
    "duration": 21,
    "start_time": "2024-10-01T06:48:00.941Z"
   },
   {
    "duration": 20,
    "start_time": "2024-10-01T06:48:00.963Z"
   },
   {
    "duration": 134,
    "start_time": "2024-10-01T06:48:00.984Z"
   },
   {
    "duration": 6,
    "start_time": "2024-10-01T06:48:01.119Z"
   },
   {
    "duration": 150,
    "start_time": "2024-10-01T06:48:01.126Z"
   },
   {
    "duration": 185,
    "start_time": "2024-10-01T06:48:01.278Z"
   },
   {
    "duration": 171,
    "start_time": "2024-10-01T06:48:01.464Z"
   },
   {
    "duration": 175,
    "start_time": "2024-10-01T06:48:01.637Z"
   },
   {
    "duration": 23,
    "start_time": "2024-10-01T06:48:01.814Z"
   },
   {
    "duration": 15,
    "start_time": "2024-10-01T06:48:01.838Z"
   },
   {
    "duration": 181,
    "start_time": "2024-10-01T06:48:01.854Z"
   },
   {
    "duration": 16,
    "start_time": "2024-10-01T06:48:02.037Z"
   },
   {
    "duration": 641,
    "start_time": "2024-10-01T06:48:02.055Z"
   },
   {
    "duration": 13,
    "start_time": "2024-10-01T06:48:02.697Z"
   },
   {
    "duration": 116,
    "start_time": "2024-10-01T06:48:02.711Z"
   },
   {
    "duration": 5,
    "start_time": "2024-10-01T06:48:02.828Z"
   },
   {
    "duration": 66,
    "start_time": "2024-10-01T06:48:02.834Z"
   },
   {
    "duration": 45,
    "start_time": "2024-10-01T06:48:02.903Z"
   },
   {
    "duration": 59,
    "start_time": "2024-10-01T06:48:02.949Z"
   },
   {
    "duration": 13,
    "start_time": "2024-10-01T06:48:03.010Z"
   }
  ],
  "kernelspec": {
   "display_name": "Python 3 (ipykernel)",
   "language": "python",
   "name": "python3"
  },
  "language_info": {
   "codemirror_mode": {
    "name": "ipython",
    "version": 3
   },
   "file_extension": ".py",
   "mimetype": "text/x-python",
   "name": "python",
   "nbconvert_exporter": "python",
   "pygments_lexer": "ipython3",
   "version": "3.11.7"
  },
  "toc": {
   "base_numbering": 1,
   "nav_menu": {},
   "number_sections": true,
   "sideBar": true,
   "skip_h1_title": true,
   "title_cell": "Table of Contents",
   "title_sidebar": "Contents",
   "toc_cell": false,
   "toc_position": {},
   "toc_section_display": true,
   "toc_window_display": false
  }
 },
 "nbformat": 4,
 "nbformat_minor": 5
}
